{
 "cells": [
  {
   "cell_type": "markdown",
   "metadata": {},
   "source": [
    "# Short Lab 3 : Proximal/cyclic/greedy coordinate descent\n",
    "\n",
    "#### Authors: A. Gramfort, H. Janati, M. Massias\n",
    "\n",
    "## Aim\n",
    "\n",
    "The aim of this material is to code \n",
    "- cyclic and greedy coordinate descent for ordinary least squares (OLS)\n",
    "- proximal coordinate descent for sparse Logistic regression\n",
    "\n",
    "## VERY IMPORTANT\n",
    "\n",
    "- This work **must be done by pairs of students**.\n",
    "- **Each** student must send their work **before the 22nd of november at noon**, using the **moodle platform**.\n",
    "- This means that **each student in the pair sends the same file**\n",
    "- The **name of the file must be** constructed as in the next cell\n",
    "\n",
    "# Gentle reminder: no evaluation if you don't respect this EXACTLY\n",
    "\n",
    "### How to construct the name of your file"
   ]
  },
  {
   "cell_type": "code",
   "execution_count": 1,
   "metadata": {},
   "outputs": [
    {
     "name": "stdout",
     "output_type": "stream",
     "text": [
      "lab3_zarka-arthus_simon_and_fidelin--durand_julian.ipynb\n"
     ]
    }
   ],
   "source": [
    "# Change here using YOUR first and last names\n",
    "fn1 = \"simon\"\n",
    "ln1 = \"zarka-arthus\"\n",
    "fn2 = \"julian\"\n",
    "ln2 = \"fidelin--durand\"\n",
    "\n",
    "filename = (\n",
    "    \"_\".join(map(lambda s: s.strip().lower(), [\"lab3\", ln1, fn1, \"and\", ln2, fn2]))\n",
    "    + \".ipynb\"\n",
    ")\n",
    "print(filename)"
   ]
  },
  {
   "cell_type": "code",
   "execution_count": 2,
   "metadata": {},
   "outputs": [],
   "source": [
    "import numpy as np\n",
    "from numpy.linalg import norm\n",
    "import matplotlib.pyplot as plt"
   ]
  },
  {
   "cell_type": "code",
   "execution_count": 3,
   "metadata": {},
   "outputs": [
    {
     "name": "stderr",
     "output_type": "stream",
     "text": [
      "C:\\Users\\simon\\AppData\\Local\\Temp\\ipykernel_43920\\428856815.py:4: DeprecationWarning: Please import `toeplitz` from the `scipy.linalg` namespace; the `scipy.linalg.special_matrices` namespace is deprecated and will be removed in SciPy 2.0.0.\n",
      "  from scipy.linalg.special_matrices import toeplitz\n"
     ]
    }
   ],
   "source": [
    "# the usual functions:\n",
    "\n",
    "from numpy.random import multivariate_normal\n",
    "from scipy.linalg.special_matrices import toeplitz\n",
    "from numpy.random import randn\n",
    "\n",
    "\n",
    "def simu(coefs, n_samples=1000, corr=0.5, for_logreg=False):\n",
    "    n_features = len(coefs)\n",
    "    cov = toeplitz(corr ** np.arange(0, n_features))\n",
    "    A = multivariate_normal(np.zeros(n_features), cov, size=n_samples)\n",
    "    b = A.dot(coefs) + randn(n_samples)\n",
    "    if for_logreg:\n",
    "        b = np.sign(b)\n",
    "    return A, b"
   ]
  },
  {
   "cell_type": "markdown",
   "metadata": {},
   "source": [
    "## Part 1: Ordinary Least Squares\n",
    "\n",
    "\n",
    "Let $A \\in \\mathbb{R}^{n \\times p}$, $y \\in \\mathbb{R}^n$.\n",
    "We want to use coordinate descent to solve:\n",
    "    $$\\hat w \\in  \\mathrm{arg \\, min \\,} \\frac 12 \\Vert Aw - b \\Vert ^2 $$\n",
    "\n",
    "\n",
    "<div class=\"alert alert-success\">\n",
    "    <b>QUESTION 1:</b> We ask you to code\n",
    "     <ul>\n",
    "         <li>cyclic coordinate descent: at iteration $t$, update feature $j = t \\mod p$</li>\n",
    "         <li>greedy coordinate descent: at iteration $t$, update feature having the largest partial gradient in magnitude, ie $j = \\mathrm{arg\\, max \\,}_{i} \\vert \\nabla_i f(w_t) \\vert$.\n",
    "</li>\n",
    "    </ul>\n",
    "</div>\n",
    "\n",
    "**WARNING**: You must do this in a clever way, ie such that $p$ updates cost the same as one update of GD."
   ]
  },
  {
   "cell_type": "code",
   "execution_count": 4,
   "metadata": {},
   "outputs": [],
   "source": [
    "n_features = 100\n",
    "np.random.seed(1970)\n",
    "coefs = np.random.randn(n_features)\n",
    "\n",
    "A, b = simu(coefs, n_samples=1000, for_logreg=False)"
   ]
  },
  {
   "cell_type": "code",
   "execution_count": 10,
   "metadata": {},
   "outputs": [],
   "source": [
    "def cyclic_cd(A, b, n_iter):\n",
    "    n_samples, n_features = A.shape\n",
    "    all_objs = []\n",
    "    \n",
    "    w = np.zeros(n_features)\n",
    "    residuals = b - A.dot(w)\n",
    "    \n",
    "    # TODO\n",
    "    lips_const = np.linalg.norm(A, axis=0) ** 2\n",
    "    # END TODO\n",
    "    \n",
    "    for t in range(n_iter):\n",
    "        j = t % n_features\n",
    "        # TODO\n",
    "        old_w_j = w[j]\n",
    "        gradient_j = -A[:, j].dot(residuals)\n",
    "        w[j] += -gradient_j/lips_const[j]\n",
    "        # update residuals:\n",
    "        residuals += A[:, j] * (old_w_j - w[j])\n",
    "        # END TODO\n",
    "        \n",
    "        if t % n_features == 0:\n",
    "            all_objs.append((residuals ** 2).sum() / 2.)\n",
    "    return w, np.array(all_objs)\n",
    "\n",
    "\n",
    "\n",
    "def greedy_cd(A, b, n_iter):\n",
    "    n_samples, n_features = A.shape\n",
    "    all_objs = []\n",
    "    \n",
    "    w = np.zeros(n_features)\n",
    "    \n",
    "    gradient = A.T.dot(A.dot(w) - b)\n",
    "    gram = A.T.dot(A)  # you will need this to keep the gradient up to date\n",
    "    \n",
    "    # TODO\n",
    "    lips_const = np.diag(gram)\n",
    "    # END TODO \n",
    "    \n",
    "    for t in range(n_iter):\n",
    "        # TODO\n",
    "        # choose feature j to update: \n",
    "        j = np.argmax(np.abs(gradient)) \n",
    "        old_w_j = w[j] \n",
    "        w[j] -= gradient[j]/lips_const[j]\n",
    "        # update gradient:\n",
    "        gradient += (w[j] - old_w_j) * gram[:, j]\n",
    "        # END TODO\n",
    "        \n",
    "        if t % n_features == 0:\n",
    "            all_objs.append(0.5 * np.linalg.norm(A.dot(w) - b) ** 2)\n",
    "    \n",
    "    return w, np.array(all_objs)"
   ]
  },
  {
   "cell_type": "markdown",
   "metadata": {},
   "source": [
    "<div class=\"alert alert-success\">\n",
    "    <b>QUESTION 2:</b>\n",
    "     <ul>\n",
    "         <li>Compute a precise minimum with your favorite solver</li>\n",
    "         <li>Compare the performance of cyclic and greedy CD as function of iterations.</li>\n",
    "         <li>From a practical point of view, could you use greedy CD for L2 regularized logistic regression? to solve OLS, but with 100,000 features? Explain your answers.</li>\n",
    "    </ul>\n",
    "</div>\n",
    "\n",
    "**Remark:** You will do the plots using the number of iterations on the x-axis and not time as your code is likely to be slow unless you use [numba](https://numba.pydata.org/)."
   ]
  },
  {
   "cell_type": "code",
   "execution_count": 11,
   "metadata": {},
   "outputs": [
    {
     "data": {
      "image/png": "[encoded data removed]",
      "text/plain": [
       "<Figure size 1000x600 with 1 Axes>"
      ]
     },
     "metadata": {},
     "output_type": "display_data"
    }
   ],
   "source": [
    "# Résolution exacte via linalg.lstsq\n",
    "w_star, residuals, rank, s = np.linalg.lstsq(A, b, rcond=None)\n",
    "\n",
    "# Nombre d'itérations\n",
    "n_iter = 500\n",
    "\n",
    "# Exécuter les descentes de coordonnées\n",
    "w_cyclic, objs_cyclic = cyclic_cd(A, b, n_iter)\n",
    "w_greedy, objs_greedy = greedy_cd(A, b, n_iter)\n",
    "\n",
    "# Calculer l'écart à la solution optimale (norme L2)\n",
    "errors_cyclic = [np.linalg.norm(w - w_star) for w in objs_cyclic]\n",
    "errors_greedy = [np.linalg.norm(w - w_star) for w in objs_greedy]\n",
    "\n",
    "# Tracé des erreurs en fonction des itérations\n",
    "plt.figure(figsize=(10, 6))\n",
    "plt.plot(range(len(errors_cyclic)), errors_cyclic, label=\"Cyclic CD\", linewidth=2)\n",
    "plt.plot(range(len(errors_greedy)), errors_greedy, label=\"Greedy CD\", linewidth=2)\n",
    "\n",
    "# Ajouter la courbe pour la solution optimale\n",
    "plt.axhline(y=0, color='black', linestyle='--', label=\"Optimal solution\")\n",
    "\n",
    "plt.xlabel(\"Iterations\")\n",
    "plt.ylabel(\"Distance to optimal solution\")\n",
    "plt.title(\"Convergence of Cyclic and Greedy CD (Distance to Optimal Solution)\")\n",
    "plt.legend()\n",
    "plt.grid(True)\n",
    "plt.show()"
   ]
  },
  {
   "cell_type": "markdown",
   "metadata": {},
   "source": [
    "Nous avons choisi de représenter la norme de l'écart entre $w$ et $w_{*}$ en fonction du nombre d'itérations. L'objectif est donc d'arriver à $0$. Les deux méthodes montrent de bonnes performances en convergeant très rapidement vers la solution optimale. Cependant, la méthode Greedy CD converge encore plus vite que la Cyclic CD. \n",
    "\n",
    "La méthode Greedy CD est plus rapide mais plus coûteuse en calcul par itération. Pour un problème dense, cette méthode devient impraticable au-delà de quelques milliers de caractéristiques. Par conséquent, utiliser la méthode Greedy CD pour la régression logistique L2 ne serait pas optimale car la sélection de la coordonnée la plus impactante (gradient maximal) à chaque itération est coûteuse, surtout avec de nombreuses caractéristiques. Cela ralentirait considérablement les itérations.\n",
    "\n",
    "De même, utiliser la méthode Greedy CD pour OLS avec 100000 caractéristiques serait impossible, le coût de calcul des gradients pour toutes les coordonnées à chaque itération deviendrait trop important.\n"
   ]
  },
  {
   "cell_type": "markdown",
   "metadata": {},
   "source": [
    "## Part 2: Sparse Logistic regression"
   ]
  },
  {
   "cell_type": "markdown",
   "metadata": {},
   "source": [
    "### An important result\n",
    "\n",
    "Remember: we are solving \n",
    "$$\\hat w \\in \\mathrm{arg \\, min} \\sum_{i=1}^{n} \\mathrm{log} ( 1 + e^{- y_i w^\\top x_i} )  + \\lambda \\Vert w \\Vert_1$$\n",
    "\n",
    "<div class=\"alert alert-success\">\n",
    "    <b>QUESTION 3:</b><br/>\n",
    "    Assuming uniqueness of the solution, show that:\n",
    "    $$\n",
    "    \\lambda \\geq \\lambda_{max} \\Leftrightarrow \\hat w = 0\n",
    "    $$\n",
    "</div>\n",
    "$$\n",
    "\\lambda \\geq \\lambda_{max} \\Leftrightarrow \\hat w = 0\n",
    "$$\n",
    "    \n",
    "where $\\lambda_{max} := \\frac 12 \\Vert X^\\top y \\Vert_{\\infty}$.\n",
    "\n",
    "\n",
    "**HINT:** You will need the following beautiful result: for any $w =(w_1, \\dots, w_p) \\in \\mathbb{R}^p$, the subdifferential of the L1 norm at $w$ is:\n",
    "\n",
    "$$\n",
    "\\partial \\Vert \\cdot \\Vert_1 (w) = \\partial \\vert \\cdot \\vert (w_1)  \\times \\dots \\times \\partial \\vert \\cdot \\vert (w_p) $$\n",
    "where $\\times$ is the Cartesian product between sets,\n",
    "and $$ \\partial \\vert \\cdot \\vert (w_j) = \n",
    "\\begin{cases} &w_j / |w_j| &\\mathrm{if} \\quad w_j \\neq 0, \n",
    "         \\\\ & [-1, 1] &\\mathrm{otherwise.} \n",
    "\\end{cases}\n",
    "$$\n",
    "\n",
    "\n",
    "(it should now be easy to find $\\partial \\Vert \\cdot \\Vert_1 (\\mathbf{0}_p) $)"
   ]
  },
  {
   "cell_type": "markdown",
   "metadata": {},
   "source": [
    "To obtain the minimum of the function, we must have $\\hat{w}$ so that $\\partial \\mathcal{L}(\\hat{w}) = 0$.\n",
    "\n",
    "We found that $\\partial \\mathcal{L}(w) = -\\sum_i y_ix_i\\frac{1}{1 + \\exp^{y_iw^Tx_i}} + \\lambda \\partial \\Vert \\cdot \\Vert_1 (w)$\n",
    "\n",
    "If $w = 0$, \n",
    "\n",
    "$$\n",
    "\\frac{1}{2}X^Ty = \\lambda \\partial \\Vert \\cdot \\Vert_1 (0)\n",
    "$$\n",
    "$$\n",
    "\\lambda \\geq \\lambda_max\n",
    "$$"
   ]
  },
  {
   "cell_type": "markdown",
   "metadata": {},
   "source": [
    "<div class=\"alert alert-success\">\n",
    "    <b>QUESTION 4:</b><br/>\n",
    "    Show that for sparse Logistic regression the coordinate-wise Lipschitz constant of the smooth term, $\\gamma_j$, can be taken equal to $\\Vert X_j \\Vert^2 / 4$, where $X_j$ denotes the $j$-th column of $X$.\n",
    "</div>"
   ]
  },
  {
   "cell_type": "markdown",
   "metadata": {},
   "source": [
    "*answer here*"
   ]
  },
  {
   "cell_type": "markdown",
   "metadata": {},
   "source": [
    "<div class=\"alert alert-success\">\n",
    "    <b>QUESTION 5:</b><br/>\n",
    "    Code cyclic proximal coordinate descent for sparse Logistic regression:\n",
    "</div>\n",
    "\n",
    "**WARNING**: the Lasso means linear regression (quadratic fitting term) with L1 penalty. Sparse logistic regression means logistic regression with L1 penalty."
   ]
  },
  {
   "cell_type": "code",
   "execution_count": 12,
   "metadata": {},
   "outputs": [],
   "source": [
    "X, y = simu(coefs, n_samples=1000, for_logreg=True)\n",
    "lambda_max = norm(X.T.dot(y), ord= np.inf) / 2.\n",
    "lamb = lambda_max / 20.  \n",
    "# much easier to parametrize lambda as a function of lambda_max than \n",
    "# to take random values like 0.1 in previous Labs\n",
    "\n",
    "\n",
    "def sigmoid(t):\n",
    "    \"\"\"Sigmoid function\"\"\"\n",
    "    return 1. / (1. + np.exp(-t))\n",
    "\n",
    "\n",
    "def soft_thresh(x, u):\n",
    "    \"\"\"Soft thresholding of x at level u\"\"\"\n",
    "    return np.sign(x) * np.maximum(0., np.abs(x) - u)\n",
    "\n",
    "\n",
    "def cd_logreg(X, y, lamb, n_iter):\n",
    "    n_samples, n_features = X.shape\n",
    "    w = np.zeros(n_features)\n",
    "    Xw = X.dot(w)\n",
    "    all_objs = np.zeros(n_iter)\n",
    "    \n",
    "    # TODO\n",
    "    lips_const = np.linalg.norm(X, axis=0) ** 2\n",
    "    # END TODO\n",
    "    \n",
    "    for t in range(n_iter):\n",
    "        for j in range(n_features):\n",
    "            old_w_j = w[j]\n",
    "            # TODO\n",
    "            grad_j = -np.sum(y * X[:, j] * (1 - sigmoid(y * Xw)))\n",
    "            w[j] = soft_thresh(grad_j / lips_const[j], lamb / lips_const[j])\n",
    "            \n",
    "            if old_w_j != w[j]:\n",
    "                Xw += X[:, j] * (w[j] - old_w_j)\n",
    "            #END TODO\n",
    "            \n",
    "        all_objs[t] = np.log(1. + np.exp(-y * Xw)).sum() + lamb * norm(w, ord=1)\n",
    "    \n",
    "    return w, all_objs"
   ]
  },
  {
   "cell_type": "markdown",
   "metadata": {},
   "source": [
    "# Part 3: Real data\n",
    "\n",
    "We will compare vanilla cyclic CD and ISTA to solve the Lasso on a real dataset, called _leukemia_."
   ]
  },
  {
   "cell_type": "code",
   "execution_count": 13,
   "metadata": {},
   "outputs": [
    {
     "name": "stdout",
     "output_type": "stream",
     "text": [
      "Requirement already satisfied: scikit-learn in c:\\users\\simon\\appdata\\local\\programs\\python\\python312\\lib\\site-packages (1.5.2)\n",
      "Requirement already satisfied: numpy>=1.19.5 in c:\\users\\simon\\appdata\\local\\programs\\python\\python312\\lib\\site-packages (from scikit-learn) (1.26.4)\n",
      "Requirement already satisfied: scipy>=1.6.0 in c:\\users\\simon\\appdata\\local\\programs\\python\\python312\\lib\\site-packages (from scikit-learn) (1.14.0)\n",
      "Requirement already satisfied: joblib>=1.2.0 in c:\\users\\simon\\appdata\\local\\programs\\python\\python312\\lib\\site-packages (from scikit-learn) (1.4.2)\n",
      "Requirement already satisfied: threadpoolctl>=3.1.0 in c:\\users\\simon\\appdata\\local\\programs\\python\\python312\\lib\\site-packages (from scikit-learn) (3.5.0)\n",
      "Note: you may need to restart the kernel to use updated packages.\n"
     ]
    },
    {
     "name": "stderr",
     "output_type": "stream",
     "text": [
      "\n",
      "[notice] A new release of pip is available: 24.2 -> 24.3.1\n",
      "[notice] To update, run: python.exe -m pip install --upgrade pip\n"
     ]
    }
   ],
   "source": [
    "%pip install scikit-learn"
   ]
  },
  {
   "cell_type": "code",
   "execution_count": 14,
   "metadata": {},
   "outputs": [],
   "source": [
    "from sklearn.datasets import fetch_openml\n",
    "\n",
    "leuk = fetch_openml(\"leukemia\", version=1)\n",
    "\n",
    "X = np.asfortranarray(leuk.data)\n",
    "y = np.ones(leuk.target.shape)\n",
    "y[leuk.target == leuk.target[0]] = -1."
   ]
  },
  {
   "cell_type": "code",
   "execution_count": 15,
   "metadata": {},
   "outputs": [
    {
     "name": "stdout",
     "output_type": "stream",
     "text": [
      "(72, 7129)\n"
     ]
    }
   ],
   "source": [
    "print(X.shape)\n",
    "\n",
    "lambda_max_lasso = norm(X.T.dot(y), ord=np.inf)\n",
    "lambd = lambda_max_lasso / 5."
   ]
  },
  {
   "cell_type": "markdown",
   "metadata": {},
   "source": [
    "<div class=\"alert alert-success\">\n",
    "    <b>QUESTION 6:</b> Code\n",
    "    <ul>\n",
    "        <li>a simple proximal gradient solver for the Lasso</li>\n",
    "        <li>a prox CD solver for the Lasso and compare them on this dataset.</li>\n",
    "    </ul>\n",
    "</div>\n",
    "\n",
    "**Remark:** Do the plots in terms of epochs, not updates (to be fair to CD)."
   ]
  },
  {
   "cell_type": "code",
   "execution_count": 16,
   "metadata": {},
   "outputs": [
    {
     "name": "stderr",
     "output_type": "stream",
     "text": [
      "C:\\Users\\simon\\AppData\\Local\\Temp\\ipykernel_43920\\363454379.py:12: RuntimeWarning: overflow encountered in exp\n",
      "  obj = np.log(1 + np.exp(-y * X.dot(w))).sum() + lambd * norm(w, 1)\n",
      "C:\\Users\\simon\\AppData\\Local\\Temp\\ipykernel_43920\\363454379.py:8: RuntimeWarning: overflow encountered in exp\n",
      "  gradient = -X.T.dot(y * (1 / (1 + np.exp(-y * X.dot(w))))) + lambd * np.sign(w)\n"
     ]
    },
    {
     "ename": "KeyboardInterrupt",
     "evalue": "",
     "output_type": "error",
     "traceback": [
      "\u001b[1;31m---------------------------------------------------------------------------\u001b[0m",
      "\u001b[1;31mKeyboardInterrupt\u001b[0m                         Traceback (most recent call last)",
      "Cell \u001b[1;32mIn[16], line 42\u001b[0m\n\u001b[0;32m     40\u001b[0m \u001b[38;5;66;03m# Exécution des deux méthodes\u001b[39;00m\n\u001b[0;32m     41\u001b[0m w_ista, objs_ista \u001b[38;5;241m=\u001b[39m ista(X, y, lambd, n_iter, learning_rate\u001b[38;5;241m=\u001b[39m\u001b[38;5;241m0.1\u001b[39m)\n\u001b[1;32m---> 42\u001b[0m w_cd, objs_cd \u001b[38;5;241m=\u001b[39m \u001b[43mprox_cd\u001b[49m\u001b[43m(\u001b[49m\u001b[43mX\u001b[49m\u001b[43m,\u001b[49m\u001b[43m \u001b[49m\u001b[43my\u001b[49m\u001b[43m,\u001b[49m\u001b[43m \u001b[49m\u001b[43mlambd\u001b[49m\u001b[43m,\u001b[49m\u001b[43m \u001b[49m\u001b[43mn_iter\u001b[49m\u001b[43m)\u001b[49m\n\u001b[0;32m     44\u001b[0m \u001b[38;5;66;03m# Plot des courbes de convergence\u001b[39;00m\n\u001b[0;32m     45\u001b[0m plt\u001b[38;5;241m.\u001b[39mfigure(figsize\u001b[38;5;241m=\u001b[39m(\u001b[38;5;241m12\u001b[39m, \u001b[38;5;241m6\u001b[39m))\n",
      "Cell \u001b[1;32mIn[16], line 28\u001b[0m, in \u001b[0;36mprox_cd\u001b[1;34m(X, y, lambd, n_iter)\u001b[0m\n\u001b[0;32m     26\u001b[0m \u001b[38;5;28;01mfor\u001b[39;00m t \u001b[38;5;129;01min\u001b[39;00m \u001b[38;5;28mrange\u001b[39m(n_iter):\n\u001b[0;32m     27\u001b[0m     \u001b[38;5;28;01mfor\u001b[39;00m j \u001b[38;5;129;01min\u001b[39;00m \u001b[38;5;28mrange\u001b[39m(n_features):\n\u001b[1;32m---> 28\u001b[0m         gradient_j \u001b[38;5;241m=\u001b[39m \u001b[38;5;241m-\u001b[39mnp\u001b[38;5;241m.\u001b[39msum(y \u001b[38;5;241m*\u001b[39m X[:, j] \u001b[38;5;241m*\u001b[39m (\u001b[38;5;241m1\u001b[39m \u001b[38;5;241m/\u001b[39m (\u001b[38;5;241m1\u001b[39m \u001b[38;5;241m+\u001b[39m np\u001b[38;5;241m.\u001b[39mexp(\u001b[38;5;241m-\u001b[39my \u001b[38;5;241m*\u001b[39m \u001b[43mX\u001b[49m\u001b[38;5;241;43m.\u001b[39;49m\u001b[43mdot\u001b[49m\u001b[43m(\u001b[49m\u001b[43mw\u001b[49m\u001b[43m)\u001b[49m))))\n\u001b[0;32m     29\u001b[0m         w[j] \u001b[38;5;241m=\u001b[39m soft_thresh(gradient_j \u001b[38;5;241m/\u001b[39m lips_const[j], lambd \u001b[38;5;241m/\u001b[39m lips_const[j])\n\u001b[0;32m     31\u001b[0m     \u001b[38;5;66;03m# Calcul de l'objectif\u001b[39;00m\n",
      "\u001b[1;31mKeyboardInterrupt\u001b[0m: "
     ]
    }
   ],
   "source": [
    "# 1. Proximal Gradient Descent (ISTA)\n",
    "def ista(X, y, lambd, n_iter, learning_rate=0.1):\n",
    "    n_samples, n_features = X.shape\n",
    "    w = np.zeros(n_features)\n",
    "    all_objs = []\n",
    "    \n",
    "    for t in range(n_iter):\n",
    "        gradient = -X.T.dot(y * (1 / (1 + np.exp(-y * X.dot(w))))) + lambd * np.sign(w)\n",
    "        w -= learning_rate * gradient\n",
    "        \n",
    "        # Calcul de l'objectif\n",
    "        obj = np.log(1 + np.exp(-y * X.dot(w))).sum() + lambd * norm(w, 1)\n",
    "        all_objs.append(obj)\n",
    "    \n",
    "    return w, all_objs\n",
    "\n",
    "# 2. Coordinate Descent (prox CD)\n",
    "def prox_cd(X, y, lambd, n_iter):\n",
    "    n_samples, n_features = X.shape\n",
    "    w = np.zeros(n_features)\n",
    "    all_objs = []\n",
    "    \n",
    "    # Constante de Lipschitz\n",
    "    lips_const = np.linalg.norm(X, axis=0) ** 2\n",
    "    \n",
    "    for t in range(n_iter):\n",
    "        for j in range(n_features):\n",
    "            gradient_j = -np.sum(y * X[:, j] * (1 / (1 + np.exp(-y * X.dot(w)))))\n",
    "            w[j] = soft_thresh(gradient_j / lips_const[j], lambd / lips_const[j])\n",
    "        \n",
    "        # Calcul de l'objectif\n",
    "        obj = np.log(1 + np.exp(-y * X.dot(w))).sum() + lambd * norm(w, 1)\n",
    "        all_objs.append(obj)\n",
    "    \n",
    "    return w, all_objs\n",
    "\n",
    "# Nombre d'itérations\n",
    "n_iter = 1000\n",
    "\n",
    "# Exécution des deux méthodes\n",
    "w_ista, objs_ista = ista(X, y, lambd, n_iter, learning_rate=0.1)\n",
    "w_cd, objs_cd = prox_cd(X, y, lambd, n_iter)\n",
    "\n",
    "# Plot des courbes de convergence\n",
    "plt.figure(figsize=(12, 6))\n",
    "plt.plot(range(n_iter), objs_ista, label='ISTA', color='blue')\n",
    "plt.plot(range(n_iter), objs_cd, label='Prox CD', color='red')\n",
    "plt.xlabel('Epochs')\n",
    "plt.ylabel('Objective Value')\n",
    "plt.title('Convergence of ISTA and Prox CD on the Leukemia Dataset')\n",
    "plt.legend()\n",
    "plt.show()"
   ]
  }
 ],
 "metadata": {
  "anaconda-cloud": {},
  "kernelspec": {
   "display_name": "Python 3",
   "language": "python",
   "name": "python3"
  },
  "language_info": {
   "codemirror_mode": {
    "name": "ipython",
    "version": 3
   },
   "file_extension": ".py",
   "mimetype": "text/x-python",
   "name": "python",
   "nbconvert_exporter": "python",
   "pygments_lexer": "ipython3",
   "version": "3.12.4"
  }
 },
 "nbformat": 4,
 "nbformat_minor": 2
}
