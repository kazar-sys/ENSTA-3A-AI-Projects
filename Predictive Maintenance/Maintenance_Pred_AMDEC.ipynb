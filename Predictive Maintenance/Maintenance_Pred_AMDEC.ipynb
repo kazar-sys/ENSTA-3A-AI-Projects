{
  "cells": [
    {
      "cell_type": "markdown",
      "metadata": {
        "id": "6Dlzw5ZhCsOE"
      },
      "source": [
        "# AMDEC\n",
        "\n",
        "On suppose qu'on étudie un bras robotique. Le système est constitué de trois moteurs électriques et trois capteurs de position. Le moteur 0 assure le déplacement sur la chaîne de production selon un axe X, les moteurs 1 et 2 sont redondants et amènent l'outil en position (ici on veut dire par redondant qu'ils ont la même fonction. 2 hypothèses sont possibles : un seul moteur et le système est en panne, ou au contraire, un moteur sain suffit. Dans la suite, on a supposé un moteur en panne = système en panne). Chaque capteur est lié à un moteur pour le contrôle-commande.\n",
        "\n",
        "On fait l'hypothèse que les moteurs peuvent subir les pannes suivantes :\n",
        "- problème de rotor\n",
        "- problème de stator\n",
        "\n",
        "De même, les capteurs de position peuvent subir les pannes suivantes :\n",
        "- détachement du support\n",
        "- court-circuit\n",
        "\n",
        "1.1 Pour chaque équipement, faite la liste des fonctions et modes de défaillance, puis les effets. (15')\n",
        "\n"
      ]
    },
    {
      "cell_type": "code",
      "execution_count": null,
      "metadata": {
        "colab": {
          "base_uri": "https://localhost:8080/"
        },
        "id": "SMcK926MGvp6",
        "outputId": "58c94fe4-e3a5-44db-c510-4c0dd8db3a9a"
      },
      "outputs": [
        {
          "name": "stdout",
          "output_type": "stream",
          "text": [
            "   Equipement            Fonction Mode de défaillance      Effets    F    D  \\\n",
            "0    moteur 0  motricité latérale               rotor  Système HS  NaN  NaN   \n",
            "1    moteur 0  motricité latérale              stator  Système HS  NaN  NaN   \n",
            "2    moteur 1     motricité outil               rotor  Système HS  NaN  NaN   \n",
            "3    moteur 1     motricité outil              stator  Système HS  NaN  NaN   \n",
            "4    moteur 2     motricité outil               rotor  Système HS  NaN  NaN   \n",
            "5    moteur 2     motricité outil              stator  Système HS  NaN  NaN   \n",
            "6    capteur0          senseur M0         détachement  Système HS  NaN  NaN   \n",
            "7    capteur0          senseur M0       court-circuit  Système HS  NaN  NaN   \n",
            "8    capteur1          senseur M1         détachement  Système HS  NaN  NaN   \n",
            "9    capteur1          senseur M1       court-circuit  Système HS  NaN  NaN   \n",
            "10   capteur2          senseur M2         détachement  Système HS  NaN  NaN   \n",
            "11   capteur2          senseur M2       court-circuit  Système HS  NaN  NaN   \n",
            "\n",
            "      G    C  \n",
            "0   NaN  NaN  \n",
            "1   NaN  NaN  \n",
            "2   NaN  NaN  \n",
            "3   NaN  NaN  \n",
            "4   NaN  NaN  \n",
            "5   NaN  NaN  \n",
            "6   NaN  NaN  \n",
            "7   NaN  NaN  \n",
            "8   NaN  NaN  \n",
            "9   NaN  NaN  \n",
            "10  NaN  NaN  \n",
            "11  NaN  NaN  \n"
          ]
        }
      ],
      "source": [
        "import pandas as pd\n",
        "AMDEC = pd.DataFrame(data = [], columns=['Equipement', 'Fonction', 'Mode de défaillance', 'Effets', 'F', 'D', 'G', 'C'])\n",
        "# Réponse\n",
        "AMDEC['Equipement'] = ['moteur 0', 'moteur 0', 'moteur 1', 'moteur 1', 'moteur 2', 'moteur 2', 'capteur0', 'capteur0', 'capteur1', 'capteur1', 'capteur2', 'capteur2']\n",
        "AMDEC['Fonction'] = ['motricité latérale', 'motricité latérale', 'motricité outil','motricité outil', 'motricité outil', 'motricité outil', 'senseur M0',  'senseur M0', 'senseur M1', 'senseur M1', 'senseur M2', 'senseur M2']\n",
        "AMDEC['Mode de défaillance'] = ['rotor', 'stator', 'rotor', 'stator', 'rotor', 'stator', 'détachement', 'court-circuit', 'détachement', 'court-circuit', 'détachement', 'court-circuit']\n",
        "AMDEC['Effets'] = ['Système HS', 'Système HS','Système HS','Système HS','Système HS','Système HS', 'Système HS', 'Système HS','Système HS','Système HS','Système HS','Système HS']\n",
        "print(AMDEC)"
      ]
    },
    {
      "cell_type": "markdown",
      "metadata": {
        "id": "xZ2yG6caGu0F"
      },
      "source": [
        "\n",
        "## Fréquence\n",
        "Vous récupérez les données suivantes, extraites des logs de l'année dernière :\n",
        "- l'équipement a fonctionné 1714h\n",
        "- le moteur 0 a fonctionné 1417h\n",
        "- les moteurs 1 et 2 sont identiques et ont fonctionné 1518h\n",
        "- 28 fois, le moteur 0 a eu un problème de rotor\n",
        "- 31 fois, le moteur 0 a eu un problème de stator\n",
        "- 14 fois, le moteur 1 a eu un problème de stator\n",
        "- 17 fois, le moteur 1 a eu un problème de rotor\n",
        "- 4 fois, le moteur 2 a eu un problème de rotor\n",
        "- 9 fois, le moteur 2 a eu un problème de stator\n",
        "- 12 fois, il y a eu un court circuit, mais impossible de savoir la source\n",
        "- par 3 fois des capteurs se sont détachés\n",
        "\n",
        "1.2 remplissez la colonne 'F', avec comme grille repère : (5'/20')\n",
        "*   1 : < 1/1000 h\n",
        "*   2 : < 1/100 h\n",
        "*   3 : < 1/10 h\n",
        "*   4 : < 1/1 h"
      ]
    },
    {
      "cell_type": "code",
      "execution_count": null,
      "metadata": {
        "colab": {
          "base_uri": "https://localhost:8080/"
        },
        "id": "lfVjWHa6Hm34",
        "outputId": "2af5b681-348d-403c-9529-7af0fa6bc221"
      },
      "outputs": [
        {
          "name": "stdout",
          "output_type": "stream",
          "text": [
            "[0.01976006 0.02187721 0.00757576 0.006917   0.00233372 0.00058343]\n",
            "[0.001 0.01  0.1   1.   ]\n",
            "   Equipement            Fonction Mode de défaillance      Effets  F    D  \\\n",
            "0    moteur 0  motricité latérale               rotor  Système HS  3  NaN   \n",
            "1    moteur 0  motricité latérale              stator  Système HS  3  NaN   \n",
            "2    moteur 1     motricité outil               rotor  Système HS  2  NaN   \n",
            "3    moteur 1     motricité outil              stator  Système HS  2  NaN   \n",
            "4    moteur 2     motricité outil               rotor  Système HS  2  NaN   \n",
            "5    moteur 2     motricité outil              stator  Système HS  2  NaN   \n",
            "6    capteur0          senseur M0         détachement  Système HS  2  NaN   \n",
            "7    capteur0          senseur M0       court-circuit  Système HS  1  NaN   \n",
            "8    capteur1          senseur M1         détachement  Système HS  2  NaN   \n",
            "9    capteur1          senseur M1       court-circuit  Système HS  1  NaN   \n",
            "10   capteur2          senseur M2         détachement  Système HS  2  NaN   \n",
            "11   capteur2          senseur M2       court-circuit  Système HS  1  NaN   \n",
            "\n",
            "      G    C  \n",
            "0   NaN  NaN  \n",
            "1   NaN  NaN  \n",
            "2   NaN  NaN  \n",
            "3   NaN  NaN  \n",
            "4   NaN  NaN  \n",
            "5   NaN  NaN  \n",
            "6   NaN  NaN  \n",
            "7   NaN  NaN  \n",
            "8   NaN  NaN  \n",
            "9   NaN  NaN  \n",
            "10  NaN  NaN  \n",
            "11  NaN  NaN  \n"
          ]
        }
      ],
      "source": [
        "# réponse # M0R, M0S, M12R, M12S, s012c, s012d\n",
        "import numpy as np\n",
        "freq = np.array([28/1417, # Problème de moteur 0 (rotor)\n",
        "                 31/1417, # Problème de moteur 0 (stator)\n",
        "                 (17+4)/(1518*2), # Problème de moteur 1 / 2 (rotor)\n",
        "                 (14+9)/(1518*2), # Problème de moteur 1 / 2 (stator)\n",
        "                 12/(1714*3), # Problème de court circuit\n",
        "                 3/(1714*3)]) # Problème de décollement de capteur\n",
        "print(freq)\n",
        "\n",
        "levels = np.array([1/1000, 1/100, 1/10, 1/1])\n",
        "print(levels)\n",
        "\n",
        "def cotation(fq, levels):\n",
        "    return np.min(np.argwhere(fq < levels)) + 1\n",
        "\n",
        "list_cotation = []\n",
        "for r in [0, 1, 2, 3, 2, 3, 4, 5, 4, 5, 4, 5]:\n",
        "    list_cotation.append(cotation(freq[r], levels))\n",
        "\n",
        "AMDEC['F'] = list_cotation\n",
        "print(AMDEC)"
      ]
    },
    {
      "cell_type": "markdown",
      "metadata": {
        "id": "SyOm_3DnHnoj"
      },
      "source": [
        "## Détection\n",
        "\n",
        "Les capteurs de position permettent de détecter un mauvais positionnement des moteurs avec une probabilité de 45% pour le moteur 0 et 55% pour les moteurs 1 & 2.\n",
        "\n",
        "1.3 Remplissez la colonne D, avec comme grille repère (5'/25'):\n",
        "*   1 : 90%\n",
        "*   2 : 50%\n",
        "*   3 : 10%\n",
        "*   4 : 0%"
      ]
    },
    {
      "cell_type": "code",
      "execution_count": null,
      "metadata": {
        "id": "tf43KqwCHnX8"
      },
      "outputs": [],
      "source": [
        "AMDEC['D'] = [3, 3, 2, 2, 2, 2, 4, 4, 4, 4, 4, 4]"
      ]
    },
    {
      "cell_type": "markdown",
      "metadata": {
        "id": "dyl0m0InIMUs"
      },
      "source": [
        "## Gravité\n",
        "\n",
        "Deux cas sont envisagés : robot en environnement contrôlé, i.e. robot en cage et inaccessible par un humain, vs robot en environnement ouvert, i.e. sans protection.\n",
        "\n",
        "1.4 Remplissez la colonne G, avec comme grille repère suivante (5'/30'):\n",
        "*   1 : production nominale\n",
        "*   2 : production ralentie\n",
        "*   3 : production arrêtée\n",
        "*   4 : équipement détruit / blessés humains"
      ]
    },
    {
      "cell_type": "code",
      "execution_count": null,
      "metadata": {
        "id": "41aODPjpIq34"
      },
      "outputs": [],
      "source": [
        "# environnement contrôlé\n",
        "AMDEC['G'] = [3, 3, 3, 3, 3, 3, 3, 3, 3, 3, 3, 3]\n",
        "# environnement ouvert\n",
        "# AMDEC['G'] = [4, 4, 4, 4, 4, 4, 4, 4, 4, 4, 4, 4]"
      ]
    },
    {
      "cell_type": "markdown",
      "metadata": {
        "id": "YOZrOAYTxwku"
      },
      "source": [
        "1.5 Calculez la colonne C. (5' / 35')"
      ]
    },
    {
      "cell_type": "code",
      "execution_count": null,
      "metadata": {
        "colab": {
          "base_uri": "https://localhost:8080/"
        },
        "id": "E6CpZwt_xzLZ",
        "outputId": "1b8dd586-bcaf-44e2-b76e-ad5d318dcb48"
      },
      "outputs": [
        {
          "name": "stdout",
          "output_type": "stream",
          "text": [
            "0     27\n",
            "1     27\n",
            "2     12\n",
            "3     12\n",
            "4     12\n",
            "5     12\n",
            "6     24\n",
            "7     12\n",
            "8     24\n",
            "9     12\n",
            "10    24\n",
            "11    12\n",
            "Name: C, dtype: int64\n"
          ]
        }
      ],
      "source": [
        "AMDEC['C'] =  AMDEC['F'] * AMDEC['G'] *AMDEC['D']\n",
        "print(AMDEC['C'])"
      ]
    },
    {
      "cell_type": "markdown",
      "metadata": {
        "id": "xSU95Nf7Ir5Z"
      },
      "source": [
        "1.6 Quels problèmes détectez-vous ? Quelles solutions ? (10' / 45')"
      ]
    },
    {
      "cell_type": "markdown",
      "metadata": {
        "id": "p4NlyMgqI0gE"
      },
      "source": [
        "Le moteur 0 est critique. Solution : améliorer la détection / changer de moteur.\n",
        "\n",
        "Les moteurs 1 & 2 sont moins critiques, on peut laisser ou changer en fonction de la finalité du robot."
      ]
    },
    {
      "cell_type": "markdown",
      "metadata": {
        "id": "HqULKJPtI1QT"
      },
      "source": [
        "## Arbres de défaillances\n",
        "\n",
        "\n",
        "2.1 Faites l'arbre de défaillance du système, en ignorant les capteurs. (10'/55')"
      ]
    },
    {
      "cell_type": "code",
      "execution_count": null,
      "metadata": {
        "id": "k2WGPNc43UKk"
      },
      "outputs": [],
      "source": [
        "# Réponse\n",
        "# Une porte ET entre M0 et le système (M1, M2), une porte OU entre M1 et M2.\n",
        "# Si on considérait que les moteurs M1 et M2 se complètent, i.e. qu'une panne de l'un entraîne l'arrêt du système, on aurait alors une porte ET"
      ]
    },
    {
      "cell_type": "markdown",
      "metadata": {
        "id": "qfLzOsnJjaOQ"
      },
      "source": [
        "Les caractéristiques des produits sur le marché sont données dans le dataFrame ci-dessous.\n"
      ]
    },
    {
      "cell_type": "code",
      "execution_count": null,
      "metadata": {
        "id": "gI4mp3D2n0QT"
      },
      "outputs": [],
      "source": []
    },
    {
      "cell_type": "code",
      "execution_count": null,
      "metadata": {
        "colab": {
          "base_uri": "https://localhost:8080/"
        },
        "id": "wDrtFwZ3nYGe",
        "outputId": "cb295e12-2625-4f37-d9ba-4e5b46812f32"
      },
      "outputs": [
        {
          "name": "stdout",
          "output_type": "stream",
          "text": [
            "  Equipement  Puissance  Prix  Fiabilite\n",
            "0   Moteur 1       0.18    92       0.78\n",
            "1   Moteur 2       0.25    97       0.82\n",
            "2   Moteur 3       0.37   103       0.98\n",
            "3   Moteur 4       0.37   107       0.99\n",
            "4   Moteur 5       0.55   115       0.97\n"
          ]
        }
      ],
      "source": [
        "import pandas as pd\n",
        "catalogue = pd.read_csv('TP5_Catalogue.csv', sep=';')\n",
        "print(catalogue.head())"
      ]
    },
    {
      "cell_type": "markdown",
      "metadata": {
        "id": "tE6MwXY9jbPf"
      },
      "source": [
        "2.2 Sachant que vous avez besoin d'une puissance minimale de 0.5 pour le moteur 0 et une puissance minimale de 0.2 pour les moteurs du bras, quel choix prenez vous, sachant que vous voulez le prix minimum pour la plus grande fiabilité de votre système complet ? (fiabilité --> exp(-lamba*t), 15'/1h10')"
      ]
    },
    {
      "cell_type": "code",
      "execution_count": null,
      "metadata": {
        "colab": {
          "base_uri": "https://localhost:8080/",
          "height": 638
        },
        "id": "nqVHNh-9obZk",
        "outputId": "c7f70410-1ed3-485a-c92e-5a9c71597c87"
      },
      "outputs": [
        {
          "name": "stdout",
          "output_type": "stream",
          "text": [
            "  Equipement  Puissance  Prix  Fiabilite    lambda\n",
            "4   Moteur 5       0.55   115       0.97  0.030459\n",
            "5   Moteur 6       0.60   172       0.99  0.010050\n",
            "6   Moteur 7       1.10   187       0.79  0.235722\n",
            "7   Moteur 8       1.50   223       0.88  0.127833\n",
            "8   Moteur 9       2.20   264       0.97  0.030459\n",
            "    Prix  Fiabilite                 Choix\n",
            "21   386   0.970592  [Moteur 6, Moteur 4]\n",
            "23   516   0.970592  [Moteur 6, Moteur 6]\n",
            "20   378   0.951567  [Moteur 6, Moteur 3]\n",
            "2    329   0.951372  [Moteur 5, Moteur 4]\n",
            "4    459   0.951372  [Moteur 5, Moteur 6]\n"
          ]
        },
        {
          "data": {
            "image/png": "[encoded data removed]",
            "text/plain": [
              "<Figure size 640x480 with 1 Axes>"
            ]
          },
          "metadata": {},
          "output_type": "display_data"
        }
      ],
      "source": [
        "import matplotlib.pyplot as plt\n",
        "# Réponse\n",
        "# Transformer la fiabilité en taux de défaillance\n",
        "catalogue['lambda'] = -np.log(catalogue['Fiabilite'])\n",
        "\n",
        "choiceM0 = catalogue.loc[catalogue['Puissance'] > 0.5]\n",
        "choiceM12 = catalogue.loc[catalogue['Puissance'] > 0.2]\n",
        "print(choiceM0.head())\n",
        "Compare = pd.DataFrame(data = [], columns=['Prix', 'Fiabilite', 'Choix'])\n",
        "\n",
        "\n",
        "listPrix = []\n",
        "listLambda = []\n",
        "listFiabilite = []\n",
        "listChoice = []\n",
        "for ind0, M0 in choiceM0.iterrows():\n",
        "    for ind12, M12 in choiceM12.iterrows():\n",
        "        listPrix.append(M0['Prix'] + 2 * M12['Prix'])\n",
        "        lambda_def = 1 - (1-(M0['lambda'])) *   (1 -  (1 - (1- M12['lambda'])**2))\n",
        "        listLambda.append(lambda_def)\n",
        "        listFiabilite.append(np.exp(-lambda_def))\n",
        "        listChoice.append([M0['Equipement'], M12['Equipement']])\n",
        "\n",
        "Compare['Prix'] = listPrix\n",
        "Compare['Fiabilite'] = listFiabilite\n",
        "Compare['Choix'] = listChoice\n",
        "\n",
        "plt.plot(Compare['Prix'], Compare['Fiabilite'], '.')\n",
        "\n",
        "print(Compare.sort_values(by=['Fiabilite', 'Prix'], ascending=[False, True]).head())\n"
      ]
    },
    {
      "cell_type": "markdown",
      "metadata": {
        "id": "iXeD54isp5r3"
      },
      "source": [
        "# Réseaux bayésiens\n",
        "\n"
      ]
    },
    {
      "cell_type": "code",
      "execution_count": null,
      "metadata": {
        "colab": {
          "base_uri": "https://localhost:8080/",
          "height": 1000
        },
        "id": "g66RyYo1vFiN",
        "outputId": "b130d68e-2350-4063-ca20-6ca0eebaba2a",
        "scrolled": true
      },
      "outputs": [
        {
          "name": "stdout",
          "output_type": "stream",
          "text": [
            "Collecting bnlearn==0.8.2\n",
            "  Downloading bnlearn-0.8.2-py3-none-any.whl.metadata (12 kB)\n",
            "Collecting pgmpy>=0.1.18 (from bnlearn==0.8.2)\n",
            "  Downloading pgmpy-0.1.26-py3-none-any.whl.metadata (9.1 kB)\n",
            "Requirement already satisfied: networkx>=2.7.1 in /usr/local/lib/python3.11/dist-packages (from bnlearn==0.8.2) (3.4.2)\n",
            "Requirement already satisfied: matplotlib>=3.3.4 in /usr/local/lib/python3.11/dist-packages (from bnlearn==0.8.2) (3.10.0)\n",
            "Requirement already satisfied: numpy>=1.24.1 in /usr/local/lib/python3.11/dist-packages (from bnlearn==0.8.2) (1.26.4)\n",
            "Collecting pandas==1.5.3 (from bnlearn==0.8.2)\n",
            "  Downloading pandas-1.5.3-cp311-cp311-manylinux_2_17_x86_64.manylinux2014_x86_64.whl.metadata (11 kB)\n",
            "Requirement already satisfied: tqdm in /usr/local/lib/python3.11/dist-packages (from bnlearn==0.8.2) (4.67.1)\n",
            "Collecting ismember (from bnlearn==0.8.2)\n",
            "  Downloading ismember-1.0.5-py3-none-any.whl.metadata (3.4 kB)\n",
            "Requirement already satisfied: scikit-learn in /usr/local/lib/python3.11/dist-packages (from bnlearn==0.8.2) (1.6.1)\n",
            "Collecting funcsigs (from bnlearn==0.8.2)\n",
            "  Downloading funcsigs-1.0.2-py2.py3-none-any.whl.metadata (14 kB)\n",
            "Requirement already satisfied: statsmodels in /usr/local/lib/python3.11/dist-packages (from bnlearn==0.8.2) (0.14.4)\n",
            "Requirement already satisfied: python-louvain in /usr/local/lib/python3.11/dist-packages (from bnlearn==0.8.2) (0.16)\n",
            "Requirement already satisfied: packaging in /usr/local/lib/python3.11/dist-packages (from bnlearn==0.8.2) (24.2)\n",
            "Collecting df2onehot (from bnlearn==0.8.2)\n",
            "  Downloading df2onehot-1.0.8-py3-none-any.whl.metadata (3.3 kB)\n",
            "Requirement already satisfied: fsspec in /usr/local/lib/python3.11/dist-packages (from bnlearn==0.8.2) (2024.10.0)\n",
            "Collecting pypickle (from bnlearn==0.8.2)\n",
            "  Downloading pypickle-1.1.0-py3-none-any.whl.metadata (2.9 kB)\n",
            "Requirement already satisfied: tabulate in /usr/local/lib/python3.11/dist-packages (from bnlearn==0.8.2) (0.9.0)\n",
            "Requirement already satisfied: ipywidgets in /usr/local/lib/python3.11/dist-packages (from bnlearn==0.8.2) (7.7.1)\n",
            "Collecting datazets (from bnlearn==0.8.2)\n",
            "  Downloading datazets-1.1.0-py3-none-any.whl.metadata (11 kB)\n",
            "Requirement already satisfied: python-dateutil>=2.8.1 in /usr/local/lib/python3.11/dist-packages (from pandas==1.5.3->bnlearn==0.8.2) (2.8.2)\n",
            "Requirement already satisfied: pytz>=2020.1 in /usr/local/lib/python3.11/dist-packages (from pandas==1.5.3->bnlearn==0.8.2) (2025.1)\n",
            "Requirement already satisfied: contourpy>=1.0.1 in /usr/local/lib/python3.11/dist-packages (from matplotlib>=3.3.4->bnlearn==0.8.2) (1.3.1)\n",
            "Requirement already satisfied: cycler>=0.10 in /usr/local/lib/python3.11/dist-packages (from matplotlib>=3.3.4->bnlearn==0.8.2) (0.12.1)\n",
            "Requirement already satisfied: fonttools>=4.22.0 in /usr/local/lib/python3.11/dist-packages (from matplotlib>=3.3.4->bnlearn==0.8.2) (4.55.8)\n",
            "Requirement already satisfied: kiwisolver>=1.3.1 in /usr/local/lib/python3.11/dist-packages (from matplotlib>=3.3.4->bnlearn==0.8.2) (1.4.8)\n",
            "Requirement already satisfied: pillow>=8 in /usr/local/lib/python3.11/dist-packages (from matplotlib>=3.3.4->bnlearn==0.8.2) (11.1.0)\n",
            "Requirement already satisfied: pyparsing>=2.3.1 in /usr/local/lib/python3.11/dist-packages (from matplotlib>=3.3.4->bnlearn==0.8.2) (3.2.1)\n",
            "Requirement already satisfied: scipy in /usr/local/lib/python3.11/dist-packages (from pgmpy>=0.1.18->bnlearn==0.8.2) (1.13.1)\n",
            "Requirement already satisfied: torch in /usr/local/lib/python3.11/dist-packages (from pgmpy>=0.1.18->bnlearn==0.8.2) (2.5.1+cu124)\n",
            "Requirement already satisfied: joblib in /usr/local/lib/python3.11/dist-packages (from pgmpy>=0.1.18->bnlearn==0.8.2) (1.4.2)\n",
            "Requirement already satisfied: opt-einsum in /usr/local/lib/python3.11/dist-packages (from pgmpy>=0.1.18->bnlearn==0.8.2) (3.4.0)\n",
            "Requirement already satisfied: xgboost in /usr/local/lib/python3.11/dist-packages (from pgmpy>=0.1.18->bnlearn==0.8.2) (2.1.3)\n",
            "Requirement already satisfied: google-generativeai in /usr/local/lib/python3.11/dist-packages (from pgmpy>=0.1.18->bnlearn==0.8.2) (0.8.4)\n",
            "Requirement already satisfied: requests in /usr/local/lib/python3.11/dist-packages (from datazets->bnlearn==0.8.2) (2.32.3)\n",
            "Requirement already satisfied: ipykernel>=4.5.1 in /usr/local/lib/python3.11/dist-packages (from ipywidgets->bnlearn==0.8.2) (5.5.6)\n",
            "Requirement already satisfied: ipython-genutils~=0.2.0 in /usr/local/lib/python3.11/dist-packages (from ipywidgets->bnlearn==0.8.2) (0.2.0)\n",
            "Requirement already satisfied: traitlets>=4.3.1 in /usr/local/lib/python3.11/dist-packages (from ipywidgets->bnlearn==0.8.2) (5.7.1)\n",
            "Requirement already satisfied: widgetsnbextension~=3.6.0 in /usr/local/lib/python3.11/dist-packages (from ipywidgets->bnlearn==0.8.2) (3.6.10)\n",
            "Requirement already satisfied: ipython>=4.0.0 in /usr/local/lib/python3.11/dist-packages (from ipywidgets->bnlearn==0.8.2) (7.34.0)\n",
            "Requirement already satisfied: jupyterlab-widgets>=1.0.0 in /usr/local/lib/python3.11/dist-packages (from ipywidgets->bnlearn==0.8.2) (3.0.13)\n",
            "Requirement already satisfied: threadpoolctl>=3.1.0 in /usr/local/lib/python3.11/dist-packages (from scikit-learn->bnlearn==0.8.2) (3.5.0)\n",
            "Requirement already satisfied: patsy>=0.5.6 in /usr/local/lib/python3.11/dist-packages (from statsmodels->bnlearn==0.8.2) (1.0.1)\n",
            "Requirement already satisfied: jupyter-client in /usr/local/lib/python3.11/dist-packages (from ipykernel>=4.5.1->ipywidgets->bnlearn==0.8.2) (6.1.12)\n",
            "Requirement already satisfied: tornado>=4.2 in /usr/local/lib/python3.11/dist-packages (from ipykernel>=4.5.1->ipywidgets->bnlearn==0.8.2) (6.4.2)\n",
            "Requirement already satisfied: setuptools>=18.5 in /usr/local/lib/python3.11/dist-packages (from ipython>=4.0.0->ipywidgets->bnlearn==0.8.2) (75.1.0)\n",
            "Collecting jedi>=0.16 (from ipython>=4.0.0->ipywidgets->bnlearn==0.8.2)\n",
            "  Downloading jedi-0.19.2-py2.py3-none-any.whl.metadata (22 kB)\n",
            "Requirement already satisfied: decorator in /usr/local/lib/python3.11/dist-packages (from ipython>=4.0.0->ipywidgets->bnlearn==0.8.2) (4.4.2)\n",
            "Requirement already satisfied: pickleshare in /usr/local/lib/python3.11/dist-packages (from ipython>=4.0.0->ipywidgets->bnlearn==0.8.2) (0.7.5)\n",
            "Requirement already satisfied: prompt-toolkit!=3.0.0,!=3.0.1,<3.1.0,>=2.0.0 in /usr/local/lib/python3.11/dist-packages (from ipython>=4.0.0->ipywidgets->bnlearn==0.8.2) (3.0.50)\n",
            "Requirement already satisfied: pygments in /usr/local/lib/python3.11/dist-packages (from ipython>=4.0.0->ipywidgets->bnlearn==0.8.2) (2.18.0)\n",
            "Requirement already satisfied: backcall in /usr/local/lib/python3.11/dist-packages (from ipython>=4.0.0->ipywidgets->bnlearn==0.8.2) (0.2.0)\n",
            "Requirement already satisfied: matplotlib-inline in /usr/local/lib/python3.11/dist-packages (from ipython>=4.0.0->ipywidgets->bnlearn==0.8.2) (0.1.7)\n",
            "Requirement already satisfied: pexpect>4.3 in /usr/local/lib/python3.11/dist-packages (from ipython>=4.0.0->ipywidgets->bnlearn==0.8.2) (4.9.0)\n",
            "Requirement already satisfied: six>=1.5 in /usr/local/lib/python3.11/dist-packages (from python-dateutil>=2.8.1->pandas==1.5.3->bnlearn==0.8.2) (1.17.0)\n",
            "Requirement already satisfied: notebook>=4.4.1 in /usr/local/lib/python3.11/dist-packages (from widgetsnbextension~=3.6.0->ipywidgets->bnlearn==0.8.2) (6.5.5)\n",
            "Requirement already satisfied: google-ai-generativelanguage==0.6.15 in /usr/local/lib/python3.11/dist-packages (from google-generativeai->pgmpy>=0.1.18->bnlearn==0.8.2) (0.6.15)\n",
            "Requirement already satisfied: google-api-core in /usr/local/lib/python3.11/dist-packages (from google-generativeai->pgmpy>=0.1.18->bnlearn==0.8.2) (2.19.2)\n",
            "Requirement already satisfied: google-api-python-client in /usr/local/lib/python3.11/dist-packages (from google-generativeai->pgmpy>=0.1.18->bnlearn==0.8.2) (2.160.0)\n",
            "Requirement already satisfied: google-auth>=2.15.0 in /usr/local/lib/python3.11/dist-packages (from google-generativeai->pgmpy>=0.1.18->bnlearn==0.8.2) (2.27.0)\n",
            "Requirement already satisfied: protobuf in /usr/local/lib/python3.11/dist-packages (from google-generativeai->pgmpy>=0.1.18->bnlearn==0.8.2) (4.25.6)\n",
            "Requirement already satisfied: pydantic in /usr/local/lib/python3.11/dist-packages (from google-generativeai->pgmpy>=0.1.18->bnlearn==0.8.2) (2.10.6)\n",
            "Requirement already satisfied: typing-extensions in /usr/local/lib/python3.11/dist-packages (from google-generativeai->pgmpy>=0.1.18->bnlearn==0.8.2) (4.12.2)\n",
            "Requirement already satisfied: proto-plus<2.0.0dev,>=1.22.3 in /usr/local/lib/python3.11/dist-packages (from google-ai-generativelanguage==0.6.15->google-generativeai->pgmpy>=0.1.18->bnlearn==0.8.2) (1.26.0)\n",
            "Requirement already satisfied: charset-normalizer<4,>=2 in /usr/local/lib/python3.11/dist-packages (from requests->datazets->bnlearn==0.8.2) (3.4.1)\n",
            "Requirement already satisfied: idna<4,>=2.5 in /usr/local/lib/python3.11/dist-packages (from requests->datazets->bnlearn==0.8.2) (3.10)\n",
            "Requirement already satisfied: urllib3<3,>=1.21.1 in /usr/local/lib/python3.11/dist-packages (from requests->datazets->bnlearn==0.8.2) (2.3.0)\n",
            "Requirement already satisfied: certifi>=2017.4.17 in /usr/local/lib/python3.11/dist-packages (from requests->datazets->bnlearn==0.8.2) (2025.1.31)\n",
            "Requirement already satisfied: filelock in /usr/local/lib/python3.11/dist-packages (from torch->pgmpy>=0.1.18->bnlearn==0.8.2) (3.17.0)\n",
            "Requirement already satisfied: jinja2 in /usr/local/lib/python3.11/dist-packages (from torch->pgmpy>=0.1.18->bnlearn==0.8.2) (3.1.5)\n",
            "Collecting nvidia-cuda-nvrtc-cu12==12.4.127 (from torch->pgmpy>=0.1.18->bnlearn==0.8.2)\n",
            "  Downloading nvidia_cuda_nvrtc_cu12-12.4.127-py3-none-manylinux2014_x86_64.whl.metadata (1.5 kB)\n",
            "Collecting nvidia-cuda-runtime-cu12==12.4.127 (from torch->pgmpy>=0.1.18->bnlearn==0.8.2)\n",
            "  Downloading nvidia_cuda_runtime_cu12-12.4.127-py3-none-manylinux2014_x86_64.whl.metadata (1.5 kB)\n",
            "Collecting nvidia-cuda-cupti-cu12==12.4.127 (from torch->pgmpy>=0.1.18->bnlearn==0.8.2)\n",
            "  Downloading nvidia_cuda_cupti_cu12-12.4.127-py3-none-manylinux2014_x86_64.whl.metadata (1.6 kB)\n",
            "Collecting nvidia-cudnn-cu12==9.1.0.70 (from torch->pgmpy>=0.1.18->bnlearn==0.8.2)\n",
            "  Downloading nvidia_cudnn_cu12-9.1.0.70-py3-none-manylinux2014_x86_64.whl.metadata (1.6 kB)\n",
            "Collecting nvidia-cublas-cu12==12.4.5.8 (from torch->pgmpy>=0.1.18->bnlearn==0.8.2)\n",
            "  Downloading nvidia_cublas_cu12-12.4.5.8-py3-none-manylinux2014_x86_64.whl.metadata (1.5 kB)\n",
            "Collecting nvidia-cufft-cu12==11.2.1.3 (from torch->pgmpy>=0.1.18->bnlearn==0.8.2)\n",
            "  Downloading nvidia_cufft_cu12-11.2.1.3-py3-none-manylinux2014_x86_64.whl.metadata (1.5 kB)\n",
            "Collecting nvidia-curand-cu12==10.3.5.147 (from torch->pgmpy>=0.1.18->bnlearn==0.8.2)\n",
            "  Downloading nvidia_curand_cu12-10.3.5.147-py3-none-manylinux2014_x86_64.whl.metadata (1.5 kB)\n",
            "Collecting nvidia-cusolver-cu12==11.6.1.9 (from torch->pgmpy>=0.1.18->bnlearn==0.8.2)\n",
            "  Downloading nvidia_cusolver_cu12-11.6.1.9-py3-none-manylinux2014_x86_64.whl.metadata (1.6 kB)\n",
            "Collecting nvidia-cusparse-cu12==12.3.1.170 (from torch->pgmpy>=0.1.18->bnlearn==0.8.2)\n",
            "  Downloading nvidia_cusparse_cu12-12.3.1.170-py3-none-manylinux2014_x86_64.whl.metadata (1.6 kB)\n",
            "Requirement already satisfied: nvidia-nccl-cu12==2.21.5 in /usr/local/lib/python3.11/dist-packages (from torch->pgmpy>=0.1.18->bnlearn==0.8.2) (2.21.5)\n",
            "Requirement already satisfied: nvidia-nvtx-cu12==12.4.127 in /usr/local/lib/python3.11/dist-packages (from torch->pgmpy>=0.1.18->bnlearn==0.8.2) (12.4.127)\n",
            "Collecting nvidia-nvjitlink-cu12==12.4.127 (from torch->pgmpy>=0.1.18->bnlearn==0.8.2)\n",
            "  Downloading nvidia_nvjitlink_cu12-12.4.127-py3-none-manylinux2014_x86_64.whl.metadata (1.5 kB)\n",
            "Requirement already satisfied: triton==3.1.0 in /usr/local/lib/python3.11/dist-packages (from torch->pgmpy>=0.1.18->bnlearn==0.8.2) (3.1.0)\n",
            "Requirement already satisfied: sympy==1.13.1 in /usr/local/lib/python3.11/dist-packages (from torch->pgmpy>=0.1.18->bnlearn==0.8.2) (1.13.1)\n",
            "Requirement already satisfied: mpmath<1.4,>=1.1.0 in /usr/local/lib/python3.11/dist-packages (from sympy==1.13.1->torch->pgmpy>=0.1.18->bnlearn==0.8.2) (1.3.0)\n",
            "Requirement already satisfied: googleapis-common-protos<2.0.dev0,>=1.56.2 in /usr/local/lib/python3.11/dist-packages (from google-api-core->google-generativeai->pgmpy>=0.1.18->bnlearn==0.8.2) (1.66.0)\n",
            "Requirement already satisfied: cachetools<6.0,>=2.0.0 in /usr/local/lib/python3.11/dist-packages (from google-auth>=2.15.0->google-generativeai->pgmpy>=0.1.18->bnlearn==0.8.2) (5.5.1)\n",
            "Requirement already satisfied: pyasn1-modules>=0.2.1 in /usr/local/lib/python3.11/dist-packages (from google-auth>=2.15.0->google-generativeai->pgmpy>=0.1.18->bnlearn==0.8.2) (0.4.1)\n",
            "Requirement already satisfied: rsa<5,>=3.1.4 in /usr/local/lib/python3.11/dist-packages (from google-auth>=2.15.0->google-generativeai->pgmpy>=0.1.18->bnlearn==0.8.2) (4.9)\n",
            "Requirement already satisfied: parso<0.9.0,>=0.8.4 in /usr/local/lib/python3.11/dist-packages (from jedi>=0.16->ipython>=4.0.0->ipywidgets->bnlearn==0.8.2) (0.8.4)\n",
            "Requirement already satisfied: pyzmq<25,>=17 in /usr/local/lib/python3.11/dist-packages (from notebook>=4.4.1->widgetsnbextension~=3.6.0->ipywidgets->bnlearn==0.8.2) (24.0.1)\n",
            "Requirement already satisfied: argon2-cffi in /usr/local/lib/python3.11/dist-packages (from notebook>=4.4.1->widgetsnbextension~=3.6.0->ipywidgets->bnlearn==0.8.2) (23.1.0)\n",
            "Requirement already satisfied: jupyter-core>=4.6.1 in /usr/local/lib/python3.11/dist-packages (from notebook>=4.4.1->widgetsnbextension~=3.6.0->ipywidgets->bnlearn==0.8.2) (5.7.2)\n",
            "Requirement already satisfied: nbformat in /usr/local/lib/python3.11/dist-packages (from notebook>=4.4.1->widgetsnbextension~=3.6.0->ipywidgets->bnlearn==0.8.2) (5.10.4)\n",
            "Requirement already satisfied: nbconvert>=5 in /usr/local/lib/python3.11/dist-packages (from notebook>=4.4.1->widgetsnbextension~=3.6.0->ipywidgets->bnlearn==0.8.2) (7.16.6)\n",
            "Requirement already satisfied: nest-asyncio>=1.5 in /usr/local/lib/python3.11/dist-packages (from notebook>=4.4.1->widgetsnbextension~=3.6.0->ipywidgets->bnlearn==0.8.2) (1.6.0)\n",
            "Requirement already satisfied: Send2Trash>=1.8.0 in /usr/local/lib/python3.11/dist-packages (from notebook>=4.4.1->widgetsnbextension~=3.6.0->ipywidgets->bnlearn==0.8.2) (1.8.3)\n",
            "Requirement already satisfied: terminado>=0.8.3 in /usr/local/lib/python3.11/dist-packages (from notebook>=4.4.1->widgetsnbextension~=3.6.0->ipywidgets->bnlearn==0.8.2) (0.18.1)\n",
            "Requirement already satisfied: prometheus-client in /usr/local/lib/python3.11/dist-packages (from notebook>=4.4.1->widgetsnbextension~=3.6.0->ipywidgets->bnlearn==0.8.2) (0.21.1)\n",
            "Requirement already satisfied: nbclassic>=0.4.7 in /usr/local/lib/python3.11/dist-packages (from notebook>=4.4.1->widgetsnbextension~=3.6.0->ipywidgets->bnlearn==0.8.2) (1.2.0)\n",
            "Requirement already satisfied: ptyprocess>=0.5 in /usr/local/lib/python3.11/dist-packages (from pexpect>4.3->ipython>=4.0.0->ipywidgets->bnlearn==0.8.2) (0.7.0)\n",
            "Requirement already satisfied: wcwidth in /usr/local/lib/python3.11/dist-packages (from prompt-toolkit!=3.0.0,!=3.0.1,<3.1.0,>=2.0.0->ipython>=4.0.0->ipywidgets->bnlearn==0.8.2) (0.2.13)\n",
            "Requirement already satisfied: httplib2<1.dev0,>=0.19.0 in /usr/local/lib/python3.11/dist-packages (from google-api-python-client->google-generativeai->pgmpy>=0.1.18->bnlearn==0.8.2) (0.22.0)\n",
            "Requirement already satisfied: google-auth-httplib2<1.0.0,>=0.2.0 in /usr/local/lib/python3.11/dist-packages (from google-api-python-client->google-generativeai->pgmpy>=0.1.18->bnlearn==0.8.2) (0.2.0)\n",
            "Requirement already satisfied: uritemplate<5,>=3.0.1 in /usr/local/lib/python3.11/dist-packages (from google-api-python-client->google-generativeai->pgmpy>=0.1.18->bnlearn==0.8.2) (4.1.1)\n",
            "Requirement already satisfied: MarkupSafe>=2.0 in /usr/local/lib/python3.11/dist-packages (from jinja2->torch->pgmpy>=0.1.18->bnlearn==0.8.2) (3.0.2)\n",
            "Requirement already satisfied: annotated-types>=0.6.0 in /usr/local/lib/python3.11/dist-packages (from pydantic->google-generativeai->pgmpy>=0.1.18->bnlearn==0.8.2) (0.7.0)\n",
            "Requirement already satisfied: pydantic-core==2.27.2 in /usr/local/lib/python3.11/dist-packages (from pydantic->google-generativeai->pgmpy>=0.1.18->bnlearn==0.8.2) (2.27.2)\n",
            "Requirement already satisfied: grpcio<2.0dev,>=1.33.2 in /usr/local/lib/python3.11/dist-packages (from google-api-core[grpc]!=2.0.*,!=2.1.*,!=2.10.*,!=2.2.*,!=2.3.*,!=2.4.*,!=2.5.*,!=2.6.*,!=2.7.*,!=2.8.*,!=2.9.*,<3.0.0dev,>=1.34.1->google-ai-generativelanguage==0.6.15->google-generativeai->pgmpy>=0.1.18->bnlearn==0.8.2) (1.70.0)\n",
            "Requirement already satisfied: grpcio-status<2.0.dev0,>=1.33.2 in /usr/local/lib/python3.11/dist-packages (from google-api-core[grpc]!=2.0.*,!=2.1.*,!=2.10.*,!=2.2.*,!=2.3.*,!=2.4.*,!=2.5.*,!=2.6.*,!=2.7.*,!=2.8.*,!=2.9.*,<3.0.0dev,>=1.34.1->google-ai-generativelanguage==0.6.15->google-generativeai->pgmpy>=0.1.18->bnlearn==0.8.2) (1.62.3)\n",
            "Requirement already satisfied: platformdirs>=2.5 in /usr/local/lib/python3.11/dist-packages (from jupyter-core>=4.6.1->notebook>=4.4.1->widgetsnbextension~=3.6.0->ipywidgets->bnlearn==0.8.2) (4.3.6)\n",
            "Requirement already satisfied: notebook-shim>=0.2.3 in /usr/local/lib/python3.11/dist-packages (from nbclassic>=0.4.7->notebook>=4.4.1->widgetsnbextension~=3.6.0->ipywidgets->bnlearn==0.8.2) (0.2.4)\n",
            "Requirement already satisfied: beautifulsoup4 in /usr/local/lib/python3.11/dist-packages (from nbconvert>=5->notebook>=4.4.1->widgetsnbextension~=3.6.0->ipywidgets->bnlearn==0.8.2) (4.13.3)\n",
            "Requirement already satisfied: bleach!=5.0.0 in /usr/local/lib/python3.11/dist-packages (from bleach[css]!=5.0.0->nbconvert>=5->notebook>=4.4.1->widgetsnbextension~=3.6.0->ipywidgets->bnlearn==0.8.2) (6.2.0)\n",
            "Requirement already satisfied: defusedxml in /usr/local/lib/python3.11/dist-packages (from nbconvert>=5->notebook>=4.4.1->widgetsnbextension~=3.6.0->ipywidgets->bnlearn==0.8.2) (0.7.1)\n",
            "Requirement already satisfied: jupyterlab-pygments in /usr/local/lib/python3.11/dist-packages (from nbconvert>=5->notebook>=4.4.1->widgetsnbextension~=3.6.0->ipywidgets->bnlearn==0.8.2) (0.3.0)\n",
            "Requirement already satisfied: mistune<4,>=2.0.3 in /usr/local/lib/python3.11/dist-packages (from nbconvert>=5->notebook>=4.4.1->widgetsnbextension~=3.6.0->ipywidgets->bnlearn==0.8.2) (3.1.1)\n",
            "Requirement already satisfied: nbclient>=0.5.0 in /usr/local/lib/python3.11/dist-packages (from nbconvert>=5->notebook>=4.4.1->widgetsnbextension~=3.6.0->ipywidgets->bnlearn==0.8.2) (0.10.2)\n",
            "Requirement already satisfied: pandocfilters>=1.4.1 in /usr/local/lib/python3.11/dist-packages (from nbconvert>=5->notebook>=4.4.1->widgetsnbextension~=3.6.0->ipywidgets->bnlearn==0.8.2) (1.5.1)\n",
            "Requirement already satisfied: fastjsonschema>=2.15 in /usr/local/lib/python3.11/dist-packages (from nbformat->notebook>=4.4.1->widgetsnbextension~=3.6.0->ipywidgets->bnlearn==0.8.2) (2.21.1)\n",
            "Requirement already satisfied: jsonschema>=2.6 in /usr/local/lib/python3.11/dist-packages (from nbformat->notebook>=4.4.1->widgetsnbextension~=3.6.0->ipywidgets->bnlearn==0.8.2) (4.23.0)\n",
            "Requirement already satisfied: pyasn1<0.7.0,>=0.4.6 in /usr/local/lib/python3.11/dist-packages (from pyasn1-modules>=0.2.1->google-auth>=2.15.0->google-generativeai->pgmpy>=0.1.18->bnlearn==0.8.2) (0.6.1)\n",
            "Requirement already satisfied: argon2-cffi-bindings in /usr/local/lib/python3.11/dist-packages (from argon2-cffi->notebook>=4.4.1->widgetsnbextension~=3.6.0->ipywidgets->bnlearn==0.8.2) (21.2.0)\n",
            "Requirement already satisfied: webencodings in /usr/local/lib/python3.11/dist-packages (from bleach!=5.0.0->bleach[css]!=5.0.0->nbconvert>=5->notebook>=4.4.1->widgetsnbextension~=3.6.0->ipywidgets->bnlearn==0.8.2) (0.5.1)\n",
            "Requirement already satisfied: tinycss2<1.5,>=1.1.0 in /usr/local/lib/python3.11/dist-packages (from bleach[css]!=5.0.0->nbconvert>=5->notebook>=4.4.1->widgetsnbextension~=3.6.0->ipywidgets->bnlearn==0.8.2) (1.4.0)\n",
            "Requirement already satisfied: attrs>=22.2.0 in /usr/local/lib/python3.11/dist-packages (from jsonschema>=2.6->nbformat->notebook>=4.4.1->widgetsnbextension~=3.6.0->ipywidgets->bnlearn==0.8.2) (25.1.0)\n",
            "Requirement already satisfied: jsonschema-specifications>=2023.03.6 in /usr/local/lib/python3.11/dist-packages (from jsonschema>=2.6->nbformat->notebook>=4.4.1->widgetsnbextension~=3.6.0->ipywidgets->bnlearn==0.8.2) (2024.10.1)\n",
            "Requirement already satisfied: referencing>=0.28.4 in /usr/local/lib/python3.11/dist-packages (from jsonschema>=2.6->nbformat->notebook>=4.4.1->widgetsnbextension~=3.6.0->ipywidgets->bnlearn==0.8.2) (0.36.2)\n",
            "Requirement already satisfied: rpds-py>=0.7.1 in /usr/local/lib/python3.11/dist-packages (from jsonschema>=2.6->nbformat->notebook>=4.4.1->widgetsnbextension~=3.6.0->ipywidgets->bnlearn==0.8.2) (0.22.3)\n",
            "Requirement already satisfied: jupyter-server<3,>=1.8 in /usr/local/lib/python3.11/dist-packages (from notebook-shim>=0.2.3->nbclassic>=0.4.7->notebook>=4.4.1->widgetsnbextension~=3.6.0->ipywidgets->bnlearn==0.8.2) (1.24.0)\n",
            "Requirement already satisfied: cffi>=1.0.1 in /usr/local/lib/python3.11/dist-packages (from argon2-cffi-bindings->argon2-cffi->notebook>=4.4.1->widgetsnbextension~=3.6.0->ipywidgets->bnlearn==0.8.2) (1.17.1)\n",
            "Requirement already satisfied: soupsieve>1.2 in /usr/local/lib/python3.11/dist-packages (from beautifulsoup4->nbconvert>=5->notebook>=4.4.1->widgetsnbextension~=3.6.0->ipywidgets->bnlearn==0.8.2) (2.6)\n",
            "Requirement already satisfied: pycparser in /usr/local/lib/python3.11/dist-packages (from cffi>=1.0.1->argon2-cffi-bindings->argon2-cffi->notebook>=4.4.1->widgetsnbextension~=3.6.0->ipywidgets->bnlearn==0.8.2) (2.22)\n",
            "Requirement already satisfied: anyio<4,>=3.1.0 in /usr/local/lib/python3.11/dist-packages (from jupyter-server<3,>=1.8->notebook-shim>=0.2.3->nbclassic>=0.4.7->notebook>=4.4.1->widgetsnbextension~=3.6.0->ipywidgets->bnlearn==0.8.2) (3.7.1)\n",
            "Requirement already satisfied: websocket-client in /usr/local/lib/python3.11/dist-packages (from jupyter-server<3,>=1.8->notebook-shim>=0.2.3->nbclassic>=0.4.7->notebook>=4.4.1->widgetsnbextension~=3.6.0->ipywidgets->bnlearn==0.8.2) (1.8.0)\n",
            "Requirement already satisfied: sniffio>=1.1 in /usr/local/lib/python3.11/dist-packages (from anyio<4,>=3.1.0->jupyter-server<3,>=1.8->notebook-shim>=0.2.3->nbclassic>=0.4.7->notebook>=4.4.1->widgetsnbextension~=3.6.0->ipywidgets->bnlearn==0.8.2) (1.3.1)\n",
            "Downloading bnlearn-0.8.2-py3-none-any.whl (68 kB)\n",
            "\u001b[2K   \u001b[90m━━━━━━━━━━━━━━━━━━━━━━━━━━━━━━━━━━━━━━━━\u001b[0m \u001b[32m68.5/68.5 kB\u001b[0m \u001b[31m3.2 MB/s\u001b[0m eta \u001b[36m0:00:00\u001b[0m\n",
            "\u001b[?25hDownloading pandas-1.5.3-cp311-cp311-manylinux_2_17_x86_64.manylinux2014_x86_64.whl (12.0 MB)\n",
            "\u001b[2K   \u001b[90m━━━━━━━━━━━━━━━━━━━━━━━━━━━━━━━━━━━━━━━━\u001b[0m \u001b[32m12.0/12.0 MB\u001b[0m \u001b[31m91.2 MB/s\u001b[0m eta \u001b[36m0:00:00\u001b[0m\n",
            "\u001b[?25hDownloading pgmpy-0.1.26-py3-none-any.whl (2.0 MB)\n",
            "\u001b[2K   \u001b[90m━━━━━━━━━━━━━━━━━━━━━━━━━━━━━━━━━━━━━━━━\u001b[0m \u001b[32m2.0/2.0 MB\u001b[0m \u001b[31m60.9 MB/s\u001b[0m eta \u001b[36m0:00:00\u001b[0m\n",
            "\u001b[?25hDownloading datazets-1.1.0-py3-none-any.whl (14 kB)\n",
            "Downloading df2onehot-1.0.8-py3-none-any.whl (15 kB)\n",
            "Downloading funcsigs-1.0.2-py2.py3-none-any.whl (17 kB)\n",
            "Downloading ismember-1.0.5-py3-none-any.whl (7.7 kB)\n",
            "Downloading pypickle-1.1.0-py3-none-any.whl (5.1 kB)\n",
            "Downloading nvidia_cublas_cu12-12.4.5.8-py3-none-manylinux2014_x86_64.whl (363.4 MB)\n",
            "\u001b[2K   \u001b[90m━━━━━━━━━━━━━━━━━━━━━━━━━━━━━━━━━━━━━━━━\u001b[0m \u001b[32m363.4/363.4 MB\u001b[0m \u001b[31m4.4 MB/s\u001b[0m eta \u001b[36m0:00:00\u001b[0m\n",
            "\u001b[?25hDownloading nvidia_cuda_cupti_cu12-12.4.127-py3-none-manylinux2014_x86_64.whl (13.8 MB)\n",
            "\u001b[2K   \u001b[90m━━━━━━━━━━━━━━━━━━━━━━━━━━━━━━━━━━━━━━━━\u001b[0m \u001b[32m13.8/13.8 MB\u001b[0m \u001b[31m61.7 MB/s\u001b[0m eta \u001b[36m0:00:00\u001b[0m\n",
            "\u001b[?25hDownloading nvidia_cuda_nvrtc_cu12-12.4.127-py3-none-manylinux2014_x86_64.whl (24.6 MB)\n",
            "\u001b[2K   \u001b[90m━━━━━━━━━━━━━━━━━━━━━━━━━━━━━━━━━━━━━━━━\u001b[0m \u001b[32m24.6/24.6 MB\u001b[0m \u001b[31m35.0 MB/s\u001b[0m eta \u001b[36m0:00:00\u001b[0m\n",
            "\u001b[?25hDownloading nvidia_cuda_runtime_cu12-12.4.127-py3-none-manylinux2014_x86_64.whl (883 kB)\n",
            "\u001b[2K   \u001b[90m━━━━━━━━━━━━━━━━━━━━━━━━━━━━━━━━━━━━━━━━\u001b[0m \u001b[32m883.7/883.7 kB\u001b[0m \u001b[31m44.3 MB/s\u001b[0m eta \u001b[36m0:00:00\u001b[0m\n",
            "\u001b[?25hDownloading nvidia_cudnn_cu12-9.1.0.70-py3-none-manylinux2014_x86_64.whl (664.8 MB)\n",
            "\u001b[2K   \u001b[90m━━━━━━━━━━━━━━━━━━━━━━━━━━━━━━━━━━━━━━━━\u001b[0m \u001b[32m664.8/664.8 MB\u001b[0m \u001b[31m2.8 MB/s\u001b[0m eta \u001b[36m0:00:00\u001b[0m\n",
            "\u001b[?25hDownloading nvidia_cufft_cu12-11.2.1.3-py3-none-manylinux2014_x86_64.whl (211.5 MB)\n",
            "\u001b[2K   \u001b[90m━━━━━━━━━━━━━━━━━━━━━━━━━━━━━━━━━━━━━━━━\u001b[0m \u001b[32m211.5/211.5 MB\u001b[0m \u001b[31m6.3 MB/s\u001b[0m eta \u001b[36m0:00:00\u001b[0m\n",
            "\u001b[?25hDownloading nvidia_curand_cu12-10.3.5.147-py3-none-manylinux2014_x86_64.whl (56.3 MB)\n",
            "\u001b[2K   \u001b[90m━━━━━━━━━━━━━━━━━━━━━━━━━━━━━━━━━━━━━━━━\u001b[0m \u001b[32m56.3/56.3 MB\u001b[0m \u001b[31m11.0 MB/s\u001b[0m eta \u001b[36m0:00:00\u001b[0m\n",
            "\u001b[?25hDownloading nvidia_cusolver_cu12-11.6.1.9-py3-none-manylinux2014_x86_64.whl (127.9 MB)\n",
            "\u001b[2K   \u001b[90m━━━━━━━━━━━━━━━━━━━━━━━━━━━━━━━━━━━━━━━━\u001b[0m \u001b[32m127.9/127.9 MB\u001b[0m \u001b[31m7.3 MB/s\u001b[0m eta \u001b[36m0:00:00\u001b[0m\n",
            "\u001b[?25hDownloading nvidia_cusparse_cu12-12.3.1.170-py3-none-manylinux2014_x86_64.whl (207.5 MB)\n",
            "\u001b[2K   \u001b[90m━━━━━━━━━━━━━━━━━━━━━━━━━━━━━━━━━━━━━━━━\u001b[0m \u001b[32m207.5/207.5 MB\u001b[0m \u001b[31m6.2 MB/s\u001b[0m eta \u001b[36m0:00:00\u001b[0m\n",
            "\u001b[?25hDownloading nvidia_nvjitlink_cu12-12.4.127-py3-none-manylinux2014_x86_64.whl (21.1 MB)\n",
            "\u001b[2K   \u001b[90m━━━━━━━━━━━━━━━━━━━━━━━━━━━━━━━━━━━━━━━━\u001b[0m \u001b[32m21.1/21.1 MB\u001b[0m \u001b[31m81.3 MB/s\u001b[0m eta \u001b[36m0:00:00\u001b[0m\n",
            "\u001b[?25hDownloading jedi-0.19.2-py2.py3-none-any.whl (1.6 MB)\n",
            "\u001b[2K   \u001b[90m━━━━━━━━━━━━━━━━━━━━━━━━━━━━━━━━━━━━━━━━\u001b[0m \u001b[32m1.6/1.6 MB\u001b[0m \u001b[31m72.7 MB/s\u001b[0m eta \u001b[36m0:00:00\u001b[0m\n",
            "\u001b[?25hInstalling collected packages: funcsigs, pypickle, nvidia-nvjitlink-cu12, nvidia-curand-cu12, nvidia-cufft-cu12, nvidia-cuda-runtime-cu12, nvidia-cuda-nvrtc-cu12, nvidia-cuda-cupti-cu12, nvidia-cublas-cu12, jedi, ismember, pandas, nvidia-cusparse-cu12, nvidia-cudnn-cu12, nvidia-cusolver-cu12, datazets, df2onehot, pgmpy, bnlearn\n",
            "  Attempting uninstall: nvidia-nvjitlink-cu12\n",
            "    Found existing installation: nvidia-nvjitlink-cu12 12.5.82\n",
            "    Uninstalling nvidia-nvjitlink-cu12-12.5.82:\n",
            "      Successfully uninstalled nvidia-nvjitlink-cu12-12.5.82\n",
            "  Attempting uninstall: nvidia-curand-cu12\n",
            "    Found existing installation: nvidia-curand-cu12 10.3.6.82\n",
            "    Uninstalling nvidia-curand-cu12-10.3.6.82:\n",
            "      Successfully uninstalled nvidia-curand-cu12-10.3.6.82\n",
            "  Attempting uninstall: nvidia-cufft-cu12\n",
            "    Found existing installation: nvidia-cufft-cu12 11.2.3.61\n",
            "    Uninstalling nvidia-cufft-cu12-11.2.3.61:\n",
            "      Successfully uninstalled nvidia-cufft-cu12-11.2.3.61\n",
            "  Attempting uninstall: nvidia-cuda-runtime-cu12\n",
            "    Found existing installation: nvidia-cuda-runtime-cu12 12.5.82\n",
            "    Uninstalling nvidia-cuda-runtime-cu12-12.5.82:\n",
            "      Successfully uninstalled nvidia-cuda-runtime-cu12-12.5.82\n",
            "  Attempting uninstall: nvidia-cuda-nvrtc-cu12\n",
            "    Found existing installation: nvidia-cuda-nvrtc-cu12 12.5.82\n",
            "    Uninstalling nvidia-cuda-nvrtc-cu12-12.5.82:\n",
            "      Successfully uninstalled nvidia-cuda-nvrtc-cu12-12.5.82\n",
            "  Attempting uninstall: nvidia-cuda-cupti-cu12\n",
            "    Found existing installation: nvidia-cuda-cupti-cu12 12.5.82\n",
            "    Uninstalling nvidia-cuda-cupti-cu12-12.5.82:\n",
            "      Successfully uninstalled nvidia-cuda-cupti-cu12-12.5.82\n",
            "  Attempting uninstall: nvidia-cublas-cu12\n",
            "    Found existing installation: nvidia-cublas-cu12 12.5.3.2\n",
            "    Uninstalling nvidia-cublas-cu12-12.5.3.2:\n",
            "      Successfully uninstalled nvidia-cublas-cu12-12.5.3.2\n",
            "  Attempting uninstall: pandas\n",
            "    Found existing installation: pandas 2.2.2\n",
            "    Uninstalling pandas-2.2.2:\n",
            "      Successfully uninstalled pandas-2.2.2\n",
            "  Attempting uninstall: nvidia-cusparse-cu12\n",
            "    Found existing installation: nvidia-cusparse-cu12 12.5.1.3\n",
            "    Uninstalling nvidia-cusparse-cu12-12.5.1.3:\n",
            "      Successfully uninstalled nvidia-cusparse-cu12-12.5.1.3\n",
            "  Attempting uninstall: nvidia-cudnn-cu12\n",
            "    Found existing installation: nvidia-cudnn-cu12 9.3.0.75\n",
            "    Uninstalling nvidia-cudnn-cu12-9.3.0.75:\n",
            "      Successfully uninstalled nvidia-cudnn-cu12-9.3.0.75\n",
            "  Attempting uninstall: nvidia-cusolver-cu12\n",
            "    Found existing installation: nvidia-cusolver-cu12 11.6.3.83\n",
            "    Uninstalling nvidia-cusolver-cu12-11.6.3.83:\n",
            "      Successfully uninstalled nvidia-cusolver-cu12-11.6.3.83\n",
            "\u001b[31mERROR: pip's dependency resolver does not currently take into account all the packages that are installed. This behaviour is the source of the following dependency conflicts.\n",
            "google-colab 1.0.0 requires pandas==2.2.2, but you have pandas 1.5.3 which is incompatible.\n",
            "xarray 2025.1.2 requires pandas>=2.1, but you have pandas 1.5.3 which is incompatible.\n",
            "cudf-cu12 24.12.0 requires pandas<2.2.4dev0,>=2.0, but you have pandas 1.5.3 which is incompatible.\n",
            "mizani 0.13.1 requires pandas>=2.2.0, but you have pandas 1.5.3 which is incompatible.\n",
            "plotnine 0.14.5 requires pandas>=2.2.0, but you have pandas 1.5.3 which is incompatible.\u001b[0m\u001b[31m\n",
            "\u001b[0mSuccessfully installed bnlearn-0.8.2 datazets-1.1.0 df2onehot-1.0.8 funcsigs-1.0.2 ismember-1.0.5 jedi-0.19.2 nvidia-cublas-cu12-12.4.5.8 nvidia-cuda-cupti-cu12-12.4.127 nvidia-cuda-nvrtc-cu12-12.4.127 nvidia-cuda-runtime-cu12-12.4.127 nvidia-cudnn-cu12-9.1.0.70 nvidia-cufft-cu12-11.2.1.3 nvidia-curand-cu12-10.3.5.147 nvidia-cusolver-cu12-11.6.1.9 nvidia-cusparse-cu12-12.3.1.170 nvidia-nvjitlink-cu12-12.4.127 pandas-1.5.3 pgmpy-0.1.26 pypickle-1.1.0\n"
          ]
        },
        {
          "data": {
            "application/vnd.colab-display-data+json": {
              "id": "bff04e9fc3df48c3a9365d9d009acc48",
              "pip_warning": {
                "packages": [
                  "pandas"
                ]
              }
            }
          },
          "metadata": {},
          "output_type": "display_data"
        }
      ],
      "source": [
        "!pip install bnlearn==0.8.2"
      ]
    },
    {
      "cell_type": "code",
      "execution_count": null,
      "metadata": {
        "id": "HifxDXGIhmK8"
      },
      "outputs": [],
      "source": [
        "import bnlearn"
      ]
    },
    {
      "cell_type": "code",
      "execution_count": null,
      "metadata": {
        "id": "WeAYMmvIPJFt"
      },
      "outputs": [],
      "source": [
        "#files.upload() # Sélectionnez les données \"data_printer.csv\""
      ]
    },
    {
      "cell_type": "code",
      "execution_count": null,
      "metadata": {
        "colab": {
          "base_uri": "https://localhost:8080/"
        },
        "id": "v3oJkXvJhmK9",
        "outputId": "b9fda00c-8c3c-4058-ac75-90936b6be637"
      },
      "outputs": [
        {
          "name": "stdout",
          "output_type": "stream",
          "text": [
            "   Unnamed: 0  encre  question_ink  papier  question_paper  pilote  \\\n",
            "0           0      0             1       1               1       1   \n",
            "1           1      0             1       1               1       1   \n",
            "2           2      0             0       1               1       1   \n",
            "3           3      1             1       0               0       1   \n",
            "4           4      1             1       0               1       1   \n",
            "\n",
            "   question_screen  action_addink  action_addpaper  action_reboot  \n",
            "0                1              0                1              1  \n",
            "1                1              0                1              1  \n",
            "2                0              0                1              1  \n",
            "3                1              1                0              1  \n",
            "4                1              1                0              1  \n"
          ]
        }
      ],
      "source": [
        "import pandas as pd\n",
        "data_printer = pd.read_csv('TP5_data_printer.csv', sep=';')\n",
        "print(data_printer.head())"
      ]
    },
    {
      "cell_type": "markdown",
      "metadata": {
        "id": "Uc-FWhsyCeyR"
      },
      "source": [
        "Nous allons étudier un modèle simple d'imprimante. On suppose que cette imprimante présente 3 pannes distinctes:\n",
        "- problème d'encre\n",
        "- problème de papier\n",
        "- problème de pilote\n",
        "Vous pouvez poser 3 questions :\n",
        "- y-a-til de l'encre ?\n",
        "- y-a-til du papier ?\n",
        "- l'écran affiche-t-il un code d'erreur ?\n",
        "Vous pouvez faire 3 actions :\n",
        "- remplir l'encre\n",
        "- remplir le papier\n",
        "- redémarrer\n",
        "\n",
        "Nous utiliserons le package bnlearn : https://erdogant.github.io/bnlearn/pages/html/index.html\n",
        "\n",
        "3.1 Proposez une structure de réseau bayésien, puis affichez la. (20'/1h30')"
      ]
    },
    {
      "cell_type": "code",
      "execution_count": null,
      "metadata": {
        "colab": {
          "base_uri": "https://localhost:8080/"
        },
        "id": "qlxnQcwQDP72",
        "outputId": "315f4f1d-133b-4b44-bbcc-68407d719679"
      },
      "outputs": [
        {
          "name": "stdout",
          "output_type": "stream",
          "text": [
            "[bnlearn] >bayes DAG created.\n"
          ]
        }
      ],
      "source": [
        "import bnlearn\n",
        "# Réponse:\n",
        "edges = [('encre', 'papier'),\n",
        "         ('papier', 'pilote'),\n",
        "         ('encre', 'pilote'),\n",
        "         ('papier', 'question_paper'),\n",
        "         ('encre', 'question_ink'),\n",
        "         ('papier', 'question_screen'),\n",
        "         ('pilote', 'question_screen'),\n",
        "         ('encre', 'question_screen'),\n",
        "         ('pilote', 'action_addpaper'),\n",
        "         ('pilote', 'action_addink'),\n",
        "         ('pilote', 'action_reboot'),\n",
        "         ('encre', 'action_addpaper'),\n",
        "         ('encre', 'action_addink'),\n",
        "         ('encre', 'action_reboot'),\n",
        "         ('papier', 'action_addpaper'),\n",
        "         ('papier', 'action_addink'),\n",
        "         ('papier', 'action_reboot'),\n",
        "         ]\n",
        "DAG = bnlearn.make_DAG(edges)"
      ]
    },
    {
      "cell_type": "code",
      "execution_count": null,
      "metadata": {
        "colab": {
          "base_uri": "https://localhost:8080/",
          "height": 898
        },
        "id": "kORsgnVkM9ze",
        "outputId": "871b8ca8-ff49-4feb-eb0d-ebe39c329564"
      },
      "outputs": [
        {
          "name": "stdout",
          "output_type": "stream",
          "text": [
            "[bnlearn] >bayes DAG created.\n",
            "[bnlearn] >Set node properties.\n",
            "[bnlearn] >Set edge properties.\n",
            "[bnlearn] >Plot based on Bayesian model\n"
          ]
        },
        {
          "data": {
            "image/png": "[encoded data removed]",
            "text/plain": [
              "<Figure size 1500x1000 with 1 Axes>"
            ]
          },
          "metadata": {},
          "output_type": "display_data"
        }
      ],
      "source": [
        "#Réponse:\n",
        "DAG = bnlearn.make_DAG(edges)\n",
        "node_properties = bnlearn.get_node_properties(DAG);\n",
        "bnlearn.plot(DAG, interactive=False, node_properties=node_properties, verbose=4);"
      ]
    },
    {
      "cell_type": "markdown",
      "metadata": {
        "id": "omc3ns46QvMD"
      },
      "source": [
        "Téléchargeons les données de l'imprimante et des maintenances associées.\n",
        "Pour note:\n",
        "*   encre, papier, pilote = 0 --> panne\n",
        "*   action_ = 0 --> succès de l'action\n",
        "*   question_ink = 0 --> pas d'encre\n",
        "*   question_paper = 0 --> pas de papier\n",
        "*   question_screen = 0 --> problème écran"
      ]
    },
    {
      "cell_type": "markdown",
      "metadata": {
        "id": "hWK8akGcPWdr"
      },
      "source": [
        "3.2 Apprenez les paramètres du réseau bayésien. (15'/1h45)"
      ]
    },
    {
      "cell_type": "code",
      "execution_count": null,
      "metadata": {
        "colab": {
          "base_uri": "https://localhost:8080/"
        },
        "id": "PrjssLiSA5g3",
        "outputId": "436a01c1-992e-4f22-9349-716305f739c2",
        "scrolled": false
      },
      "outputs": [
        {
          "name": "stderr",
          "output_type": "stream",
          "text": [
            "WARNING:pgmpy:Replacing existing CPD for encre\n",
            "WARNING:pgmpy:Replacing existing CPD for papier\n",
            "WARNING:pgmpy:Replacing existing CPD for pilote\n",
            "WARNING:pgmpy:Replacing existing CPD for question_paper\n",
            "WARNING:pgmpy:Replacing existing CPD for question_ink\n",
            "WARNING:pgmpy:Replacing existing CPD for question_screen\n",
            "WARNING:pgmpy:Replacing existing CPD for action_addpaper\n",
            "WARNING:pgmpy:Replacing existing CPD for action_addink\n",
            "WARNING:pgmpy:Replacing existing CPD for action_reboot\n"
          ]
        },
        {
          "name": "stdout",
          "output_type": "stream",
          "text": [
            "[bnlearn] >Removing columns from dataframe to make consistent with DAG [['Unnamed: 0']]\n",
            "[bnlearn] >Parameter learning> Computing parameters using [bayes]\n",
            "[bnlearn] >CPD of encre:\n",
            "+----------+----------+\n",
            "| encre(0) | 0.493636 |\n",
            "+----------+----------+\n",
            "| encre(1) | 0.506364 |\n",
            "+----------+----------+\n",
            "[bnlearn] >CPD of papier:\n",
            "+-----------+---------------------+--------------------+\n",
            "| encre     | encre(0)            | encre(1)           |\n",
            "+-----------+---------------------+--------------------+\n",
            "| papier(0) | 0.04604051565377532 | 0.6694793536804309 |\n",
            "+-----------+---------------------+--------------------+\n",
            "| papier(1) | 0.9539594843462247  | 0.3305206463195691 |\n",
            "+-----------+---------------------+--------------------+\n",
            "[bnlearn] >CPD of pilote:\n",
            "+-----------+-----------+---------------------+---------------------+---------------------+\n",
            "| encre     | encre(0)  | encre(0)            | encre(1)            | encre(1)            |\n",
            "+-----------+-----------+---------------------+---------------------+---------------------+\n",
            "| papier    | papier(0) | papier(1)           | papier(0)           | papier(1)           |\n",
            "+-----------+-----------+---------------------+---------------------+---------------------+\n",
            "| pilote(0) | 0.5       | 0.02413127413127413 | 0.03352105122016626 | 0.9321021184139054  |\n",
            "+-----------+-----------+---------------------+---------------------+---------------------+\n",
            "| pilote(1) | 0.5       | 0.9758687258687259  | 0.9664789487798338  | 0.06789788158609451 |\n",
            "+-----------+-----------+---------------------+---------------------+---------------------+\n",
            "[bnlearn] >CPD of question_paper:\n",
            "+-------------------+--------------------+---------------------+\n",
            "| papier            | papier(0)          | papier(1)           |\n",
            "+-------------------+--------------------+---------------------+\n",
            "| question_paper(0) | 0.6659964815280222 | 0.03560746332431278 |\n",
            "+-------------------+--------------------+---------------------+\n",
            "| question_paper(1) | 0.3340035184719779 | 0.9643925366756873  |\n",
            "+-------------------+--------------------+---------------------+\n",
            "[bnlearn] >CPD of question_ink:\n",
            "+-----------------+--------------------+---------------------+\n",
            "| encre           | encre(0)           | encre(1)            |\n",
            "+-----------------+--------------------+---------------------+\n",
            "| question_ink(0) | 0.6904235727440148 | 0.04488330341113106 |\n",
            "+-----------------+--------------------+---------------------+\n",
            "| question_ink(1) | 0.3095764272559853 | 0.9551166965888689  |\n",
            "+-----------------+--------------------+---------------------+\n",
            "[bnlearn] >CPD of question_screen:\n",
            "+--------------------+-----------+-----------+-----+-------------------+-----------+\n",
            "| encre              | encre(0)  | encre(0)  | ... | encre(1)          | encre(1)  |\n",
            "+--------------------+-----------+-----------+-----+-------------------+-----------+\n",
            "| papier             | papier(0) | papier(0) | ... | papier(1)         | papier(1) |\n",
            "+--------------------+-----------+-----------+-----+-------------------+-----------+\n",
            "| pilote             | pilote(0) | pilote(1) | ... | pilote(0)         | pilote(1) |\n",
            "+--------------------+-----------+-----------+-----+-------------------+-----------+\n",
            "| question_screen(0) | 0.5       | 0.5       | ... | 0.666958041958042 | 0.5       |\n",
            "+--------------------+-----------+-----------+-----+-------------------+-----------+\n",
            "| question_screen(1) | 0.5       | 0.5       | ... | 0.333041958041958 | 0.5       |\n",
            "+--------------------+-----------+-----------+-----+-------------------+-----------+\n",
            "[bnlearn] >CPD of action_addpaper:\n",
            "+--------------------+-----------+-----------+-----+----------------------+-----------+\n",
            "| encre              | encre(0)  | encre(0)  | ... | encre(1)             | encre(1)  |\n",
            "+--------------------+-----------+-----------+-----+----------------------+-----------+\n",
            "| papier             | papier(0) | papier(0) | ... | papier(1)            | papier(1) |\n",
            "+--------------------+-----------+-----------+-----+----------------------+-----------+\n",
            "| pilote             | pilote(0) | pilote(1) | ... | pilote(0)            | pilote(1) |\n",
            "+--------------------+-----------+-----------+-----+----------------------+-----------+\n",
            "| action_addpaper(0) | 0.5       | 0.5       | ... | 0.036421911421911424 | 0.5       |\n",
            "+--------------------+-----------+-----------+-----+----------------------+-----------+\n",
            "| action_addpaper(1) | 0.5       | 0.5       | ... | 0.9635780885780886   | 0.5       |\n",
            "+--------------------+-----------+-----------+-----+----------------------+-----------+\n",
            "[bnlearn] >CPD of action_addink:\n",
            "+------------------+-----------+-----------+-----+----------------------+-----------+\n",
            "| encre            | encre(0)  | encre(0)  | ... | encre(1)             | encre(1)  |\n",
            "+------------------+-----------+-----------+-----+----------------------+-----------+\n",
            "| papier           | papier(0) | papier(0) | ... | papier(1)            | papier(1) |\n",
            "+------------------+-----------+-----------+-----+----------------------+-----------+\n",
            "| pilote           | pilote(0) | pilote(1) | ... | pilote(0)            | pilote(1) |\n",
            "+------------------+-----------+-----------+-----+----------------------+-----------+\n",
            "| action_addink(0) | 0.5       | 0.5       | ... | 0.036421911421911424 | 0.5       |\n",
            "+------------------+-----------+-----------+-----+----------------------+-----------+\n",
            "| action_addink(1) | 0.5       | 0.5       | ... | 0.9635780885780886   | 0.5       |\n",
            "+------------------+-----------+-----------+-----+----------------------+-----------+\n",
            "[bnlearn] >CPD of action_reboot:\n",
            "+------------------+-----------+-----------+-----+----------------------+-----------+\n",
            "| encre            | encre(0)  | encre(0)  | ... | encre(1)             | encre(1)  |\n",
            "+------------------+-----------+-----------+-----+----------------------+-----------+\n",
            "| papier           | papier(0) | papier(0) | ... | papier(1)            | papier(1) |\n",
            "+------------------+-----------+-----------+-----+----------------------+-----------+\n",
            "| pilote           | pilote(0) | pilote(1) | ... | pilote(0)            | pilote(1) |\n",
            "+------------------+-----------+-----------+-----+----------------------+-----------+\n",
            "| action_reboot(0) | 0.5       | 0.5       | ... | 0.9635780885780886   | 0.5       |\n",
            "+------------------+-----------+-----------+-----+----------------------+-----------+\n",
            "| action_reboot(1) | 0.5       | 0.5       | ... | 0.036421911421911424 | 0.5       |\n",
            "+------------------+-----------+-----------+-----+----------------------+-----------+\n",
            "[bnlearn] >Compute structure scores for model comparison (higher is better).\n"
          ]
        }
      ],
      "source": [
        "# Réponse:\n",
        "import pandas as pd\n",
        "dfa = pd.read_csv('TP5_data_printer.csv', sep=';')\n",
        "#DAG = bnlearn.parameter_learning.fit(DAG, dfa, methodtype='ml') #'ml' / 'bayes'\n",
        "DAG = bnlearn.parameter_learning.fit(DAG, dfa, methodtype='bayes')"
      ]
    },
    {
      "cell_type": "markdown",
      "metadata": {
        "id": "pnGEfUSVERTX"
      },
      "source": [
        "3.3 Quelle est la probabilité d'avoir un problème d'encre ? de papier ? de pilote ? (15' / 2h00)"
      ]
    },
    {
      "cell_type": "code",
      "execution_count": null,
      "metadata": {
        "id": "X76Mu2fOPiGl"
      },
      "outputs": [],
      "source": [
        "# Réponse:\n",
        "# encre: p(encre=0) = 0.5\n",
        "# papier: p(papier=0) = p(papier=0|encre=0)p(encre=0) + p(papier=0|encre=1)p(encre=1) ~ 0.0 + 0.7*0.5 = 0.35\n",
        "# pilot: p(pilote=0) = 0.15\n",
        "# ou en bayésien\n",
        "# encre: p(encre=0) = 0.49\n",
        "# papier: p(papier=0) = p(papier=0|encre=0)p(encre=0) + p(papier=0|encre=1)p(encre=1) ~ 0.05*0.5 + 0.7*0.5 ~ 0.37\n",
        "# pilot: p(pilote=0) = 0.17\n"
      ]
    },
    {
      "cell_type": "markdown",
      "metadata": {
        "id": "mAOytnFAERaf"
      },
      "source": [
        "3.4 Sachant qu'il y a du papier, quelle est la probabilité d'avoir un problème d'encre ? (10'/2h10)"
      ]
    },
    {
      "cell_type": "code",
      "execution_count": null,
      "metadata": {
        "colab": {
          "base_uri": "https://localhost:8080/"
        },
        "id": "WYYO9DRsPio8",
        "outputId": "2a1e95bc-1f9d-4eeb-9735-1c56e583e1c9"
      },
      "outputs": [
        {
          "name": "stdout",
          "output_type": "stream",
          "text": [
            "[bnlearn] >Variable Elimination.\n",
            "[bnlearn] >Warning: variable(s) [None] does not exists in DAG.\n",
            "[bnlearn] >Data is stored in [query.df]\n",
            "+----+---------+----------+\n",
            "|    |   encre |        p |\n",
            "+====+=========+==========+\n",
            "|  0 |       0 | 0.627044 |\n",
            "+----+---------+----------+\n",
            "|  1 |       1 | 0.372956 |\n",
            "+----+---------+----------+\n"
          ]
        }
      ],
      "source": [
        "# Réponse:\n",
        "q1 = bnlearn.inference.fit(DAG, variables=['encre'], evidence={'question_paper': 1})\n",
        "# encre(0)"
      ]
    },
    {
      "cell_type": "markdown",
      "metadata": {
        "id": "oKpjlQHtYuQB"
      },
      "source": [
        "3.5 Sachant qu'il y a un message sur l'écran, quelle est la probabilité d'avoir un problème de pilote ? (5' / 2h15)"
      ]
    },
    {
      "cell_type": "code",
      "execution_count": null,
      "metadata": {
        "colab": {
          "base_uri": "https://localhost:8080/"
        },
        "id": "etBq9iHaY0jt",
        "outputId": "bba539b6-e7de-43ec-fc27-9559af985d69"
      },
      "outputs": [
        {
          "name": "stdout",
          "output_type": "stream",
          "text": [
            "[bnlearn] >Variable Elimination.\n",
            "[bnlearn] >Warning: variable(s) [None] does not exists in DAG.\n",
            "[bnlearn] >Data is stored in [query.df]\n",
            "+----+----------+----------+\n",
            "|    |   pilote |        p |\n",
            "+====+==========+==========+\n",
            "|  0 |        0 | 0.323694 |\n",
            "+----+----------+----------+\n",
            "|  1 |        1 | 0.676306 |\n",
            "+----+----------+----------+\n"
          ]
        }
      ],
      "source": [
        "# Réponse:\n",
        "q1 = bnlearn.inference.fit(DAG, variables=['pilote'], evidence={'question_screen':0})\n",
        "# pilote(0)"
      ]
    },
    {
      "cell_type": "markdown",
      "metadata": {
        "id": "HakxbA35ERgo"
      },
      "source": [
        "3.6 Quelle est la probabilité de succès par un reboot de la machine, sachant qu'il y a du papier ? (5'/2h20)"
      ]
    },
    {
      "cell_type": "code",
      "execution_count": null,
      "metadata": {
        "colab": {
          "base_uri": "https://localhost:8080/"
        },
        "id": "0XIfHVpdEPwQ",
        "outputId": "f81bd6be-264f-4e35-f77b-e5ebe2d8d3b3"
      },
      "outputs": [
        {
          "name": "stdout",
          "output_type": "stream",
          "text": [
            "[bnlearn] >Variable Elimination.\n",
            "[bnlearn] >Warning: variable(s) [None] does not exists in DAG.\n",
            "[bnlearn] >Data is stored in [query.df]\n",
            "+----+-----------------+----------+\n",
            "|    |   action_reboot |        p |\n",
            "+====+=================+==========+\n",
            "|  0 |               0 | 0.244592 |\n",
            "+----+-----------------+----------+\n",
            "|  1 |               1 | 0.755408 |\n",
            "+----+-----------------+----------+\n"
          ]
        }
      ],
      "source": [
        "# réponse\n",
        "q1 = bnlearn.inference.fit(DAG, variables=['action_reboot'], evidence={'question_paper':1})\n",
        "# action_reboot(0)"
      ]
    },
    {
      "cell_type": "markdown",
      "metadata": {
        "id": "apq2c6qrcdXQ"
      },
      "source": [
        "3.7 Quelle action entreprendre sachant qu'il y a du papier et que l'écran montre une erreur ? (10'/2h30)"
      ]
    },
    {
      "cell_type": "code",
      "execution_count": null,
      "metadata": {
        "colab": {
          "base_uri": "https://localhost:8080/"
        },
        "id": "4d7WMNOAbQq7",
        "outputId": "2c6690ee-d0fb-49c1-8a65-9de53e45a267"
      },
      "outputs": [
        {
          "name": "stdout",
          "output_type": "stream",
          "text": [
            "[bnlearn] >Variable Elimination.\n",
            "[bnlearn] >Warning: variable(s) [None] does not exists in DAG.\n",
            "[bnlearn] >Data is stored in [query.df]\n",
            "+----+-----------------+----------+\n",
            "|    |   action_reboot |        p |\n",
            "+====+=================+==========+\n",
            "|  0 |               0 | 0.389052 |\n",
            "+----+-----------------+----------+\n",
            "|  1 |               1 | 0.610948 |\n",
            "+----+-----------------+----------+\n",
            "[bnlearn] >Variable Elimination.\n",
            "[bnlearn] >Warning: variable(s) [None] does not exists in DAG.\n",
            "[bnlearn] >Data is stored in [query.df]\n",
            "+----+-------------------+----------+\n",
            "|    |   action_addpaper |        p |\n",
            "+====+===================+==========+\n",
            "|  0 |                 0 | 0.167273 |\n",
            "+----+-------------------+----------+\n",
            "|  1 |                 1 | 0.832727 |\n",
            "+----+-------------------+----------+\n",
            "[bnlearn] >Variable Elimination.\n",
            "[bnlearn] >Warning: variable(s) [None] does not exists in DAG.\n",
            "[bnlearn] >Data is stored in [query.df]\n",
            "+----+-----------------+----------+\n",
            "|    |   action_addink |        p |\n",
            "+====+=================+==========+\n",
            "|  0 |               0 | 0.505983 |\n",
            "+----+-----------------+----------+\n",
            "|  1 |               1 | 0.494017 |\n",
            "+----+-----------------+----------+\n"
          ]
        }
      ],
      "source": [
        "# Réponse\n",
        "qreboot = bnlearn.inference.fit(DAG, variables=['action_reboot'], evidence={'question_paper':1, 'question_screen':0})\n",
        "qaddpaper = bnlearn.inference.fit(DAG, variables=['action_addpaper'], evidence={'question_paper':1, 'question_screen':0})\n",
        "qaddink = bnlearn.inference.fit(DAG, variables=['action_addink'], evidence={'question_paper':1, 'question_screen':0})\n",
        "# max(q) (addink)"
      ]
    },
    {
      "cell_type": "code",
      "execution_count": null,
      "metadata": {
        "id": "6RIvFyqphmK_"
      },
      "outputs": [],
      "source": []
    },
    {
      "cell_type": "code",
      "execution_count": null,
      "metadata": {
        "id": "EAMpJZuZhmK_"
      },
      "outputs": [],
      "source": []
    },
    {
      "cell_type": "code",
      "execution_count": null,
      "metadata": {
        "id": "Fl2Hn3O6hmK_"
      },
      "outputs": [],
      "source": []
    }
  ],
  "metadata": {
    "colab": {
      "provenance": []
    },
    "kernelspec": {
      "display_name": "Python 3",
      "language": "python",
      "name": "python3"
    },
    "language_info": {
      "codemirror_mode": {
        "name": "ipython",
        "version": 3
      },
      "file_extension": ".py",
      "mimetype": "text/x-python",
      "name": "python",
      "nbconvert_exporter": "python",
      "pygments_lexer": "ipython3",
      "version": "3.8.5"
    }
  },
  "nbformat": 4,
  "nbformat_minor": 0
}
